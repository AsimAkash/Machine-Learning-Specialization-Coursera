{
 "cells": [
  {
   "cell_type": "markdown",
   "metadata": {},
   "source": [
    "# Quiz 05 - Overfitting & Regularization in Logistic Regression"
   ]
  },
  {
   "cell_type": "markdown",
   "metadata": {},
   "source": [
    "8 Questions"
   ]
  },
  {
   "cell_type": "markdown",
   "metadata": {},
   "source": [
    "### 1. Consider four classifiers, whose classification performance is given by the following table: Which of the four classifiers is most likely overfit?\n",
    "                   Training Error    Test Error\n",
    "    Classifier 1       0.2              0.6\n",
    "\n",
    "    Classifier 2       0.8              0.6\n",
    "\n",
    "    Classifier 3       0.2              0.2\n",
    "\n",
    "    Classifier 4       0.5              0.4"
   ]
  },
  {
   "cell_type": "markdown",
   "metadata": {},
   "source": [
    "Classifier 1"
   ]
  },
  {
   "cell_type": "markdown",
   "metadata": {},
   "source": [
    "### 2. Suppose a classifier classifies 23100 examples correctly and 1900 examples incorrectly. Compute accuracy by hand. Round your answer to 3 decimal places."
   ]
  },
  {
   "cell_type": "code",
   "execution_count": 6,
   "metadata": {
    "collapsed": false
   },
   "outputs": [
    {
     "data": {
      "text/plain": [
       "0.924"
      ]
     },
     "execution_count": 6,
     "metadata": {},
     "output_type": "execute_result"
    }
   ],
   "source": [
    "from __future__ import division\n",
    "round(23100/(23100+1900),3)"
   ]
  },
  {
   "cell_type": "markdown",
   "metadata": {},
   "source": [
    "### 3. (True/False) Accuracy and error measured on the same dataset always sum to 1."
   ]
  },
  {
   "cell_type": "markdown",
   "metadata": {},
   "source": [
    "True"
   ]
  },
  {
   "cell_type": "markdown",
   "metadata": {},
   "source": [
    "### 4. Which of the following is NOT a correct description of complex models?\n",
    "\n",
    "* A. Complex models accommodate many features.\n",
    "\n",
    "* B. Complex models tend to produce lower training error than simple models.\n",
    "\n",
    "* C. Complex models tend to generalize better than simple models.\n",
    "\n",
    "* D. Complex models tend to exhibit high variance in response to perturbation in the training data.\n",
    "\n",
    "* E. Complex models tend to exhibit low bias, capturing many patterns in the training data that simple models may have missed."
   ]
  },
  {
   "cell_type": "markdown",
   "metadata": {},
   "source": [
    "C"
   ]
  },
  {
   "cell_type": "markdown",
   "metadata": {},
   "source": [
    "### 5. Which of the following is a symptom of overfitting in the context of logistic regression? Select all that apply.\n",
    "\n",
    "* A. Large estimated coefficients\n",
    "\n",
    "* B. Good generalization to previously unseen data\n",
    "\n",
    "* C. Simple decision boundary\n",
    "\n",
    "* D. Complex decision boundary\n",
    "\n",
    "* E. Overconfident predictions of class probabilities"
   ]
  },
  {
   "cell_type": "markdown",
   "metadata": {},
   "source": [
    "A, D, E"
   ]
  },
  {
   "cell_type": "markdown",
   "metadata": {},
   "source": [
    "### 6. Suppose we perform L2 regularized logistic regression to fit a sentiment classifier. Which of the following plots does NOT describe a possible coefficient path? Choose all that apply.\n",
    "\n",
    "Note. Assume that the algorithm runs for a wide range of L2 penalty values and each coefficient plot is zoomed out enough to capture all long-term trends.\n",
    "\n",
    "<img src=\"images/image_5_1.png\">"
   ]
  },
  {
   "cell_type": "markdown",
   "metadata": {},
   "source": [
    "C, D"
   ]
  },
  {
   "cell_type": "markdown",
   "metadata": {},
   "source": [
    "### 7. Suppose we perform L1 regularized logistic regression to fit a sentiment classifier. Which of the following plots does NOT describe a possible coefficient path? Choose all that apply.\n",
    "\n",
    "Note. Assume that the algorithm runs for a wide range of L1 penalty values and each coefficient plot is zoomed out enough to capture all long-term trends.\n",
    "\n",
    "<img src=\"images/image_5_2.png\">"
   ]
  },
  {
   "cell_type": "markdown",
   "metadata": {},
   "source": [
    "A, D"
   ]
  },
  {
   "cell_type": "markdown",
   "metadata": {},
   "source": [
    "### 8. In the context of L2 regularized logistic regression, which of the following occurs as we increase the L2 penalty λ? Choose all that apply.\n",
    "\n",
    "* A. The L2 norm of the set of coefficients gets smaller\n",
    "\n",
    "* B. Region of uncertainty becomes narrower, i.e., the classifier makes predictions with higher confidence.\n",
    "\n",
    "* C. Decision boundary becomes less complex\n",
    "\n",
    "* D. Training error decreases\n",
    "\n",
    "* E. The classifier has lower variance\n",
    "\n",
    "* F. Some features are excluded from the classifier"
   ]
  },
  {
   "cell_type": "markdown",
   "metadata": {},
   "source": [
    "A, C, E"
   ]
  }
 ],
 "metadata": {
  "kernelspec": {
   "display_name": "Python 2",
   "language": "python",
   "name": "python2"
  },
  "language_info": {
   "codemirror_mode": {
    "name": "ipython",
    "version": 2
   },
   "file_extension": ".py",
   "mimetype": "text/x-python",
   "name": "python",
   "nbconvert_exporter": "python",
   "pygments_lexer": "ipython2",
   "version": "2.7.11"
  }
 },
 "nbformat": 4,
 "nbformat_minor": 0
}
