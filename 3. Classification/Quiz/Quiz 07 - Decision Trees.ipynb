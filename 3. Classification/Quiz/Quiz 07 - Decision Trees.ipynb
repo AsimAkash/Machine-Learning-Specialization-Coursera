{
 "cells": [
  {
   "cell_type": "markdown",
   "metadata": {},
   "source": [
    "# Quiz 07 - Decision Trees"
   ]
  },
  {
   "cell_type": "markdown",
   "metadata": {},
   "source": [
    "_11 Questions_"
   ]
  },
  {
   "cell_type": "markdown",
   "metadata": {},
   "source": [
    "### Questions 1 to 6 refer to the following common scenario: Consider the following dataset:\n",
    "\n",
    "    x1 x2 x3 y\n",
    "    1  1  1  1\n",
    "    0  1  0 -1\n",
    "    1  0  1 -1\n",
    "    0  0  1  1"
   ]
  },
  {
   "cell_type": "markdown",
   "metadata": {},
   "source": [
    "### 1. Let us train a decision tree with this data. Let’s call this tree T1. What feature will we split on at the root?"
   ]
  },
  {
   "cell_type": "markdown",
   "metadata": {},
   "source": [
    "x3"
   ]
  },
  {
   "cell_type": "markdown",
   "metadata": {},
   "source": [
    "### 2. Fully train T1 (until each leaf has data points of the same output label). What is the depth of T1?"
   ]
  },
  {
   "cell_type": "markdown",
   "metadata": {},
   "source": [
    "3"
   ]
  },
  {
   "cell_type": "markdown",
   "metadata": {},
   "source": [
    "### 3. What is the training error of T1?"
   ]
  },
  {
   "cell_type": "markdown",
   "metadata": {},
   "source": [
    "0"
   ]
  },
  {
   "cell_type": "markdown",
   "metadata": {},
   "source": [
    "### 4. Now consider a tree T2, which splits on x1 at the root, and splits on x2 in the 1st level, and has leaves at the 2nd level. Note: this is the XOR function on features 1 and 2. What is the depth of T2?"
   ]
  },
  {
   "cell_type": "markdown",
   "metadata": {},
   "source": [
    "2"
   ]
  },
  {
   "cell_type": "markdown",
   "metadata": {},
   "source": [
    "### 5. What is the training error of T2?"
   ]
  },
  {
   "cell_type": "markdown",
   "metadata": {},
   "source": [
    "0"
   ]
  },
  {
   "cell_type": "markdown",
   "metadata": {},
   "source": [
    "### 6. Which has smaller depth, T1 or T2?"
   ]
  },
  {
   "cell_type": "markdown",
   "metadata": {},
   "source": [
    "T2"
   ]
  },
  {
   "cell_type": "markdown",
   "metadata": {},
   "source": [
    "### 7. (True/False) When deciding to split a node, we find the best feature to split on that minimizes classification error."
   ]
  },
  {
   "cell_type": "markdown",
   "metadata": {},
   "source": [
    "True"
   ]
  },
  {
   "cell_type": "markdown",
   "metadata": {},
   "source": [
    "### 8. Let’s say we have learned a decision tree on dataset D. Consider the split learned at the root of the decision tree. Which of the following is true if one of the data points in D is removed and we re-train the tree?\n",
    "\n",
    "* A. The split at the root will be different\n",
    "\n",
    "* B. The split at the root will be exactly the same as before\n",
    "\n",
    "* C. The split could be the same or could be different"
   ]
  },
  {
   "cell_type": "markdown",
   "metadata": {},
   "source": [
    "C"
   ]
  },
  {
   "cell_type": "markdown",
   "metadata": {},
   "source": [
    "### 9. Consider two datasets D1 and D2, where D2 has the same data points as D1, but has an extra feature for each data point. Let T1 be the decision tree trained with D1, and T2 be the tree trained with D2. Which of the following is true?\n",
    "\n",
    "* A. T2 has better training error than T1\n",
    "\n",
    "* B. T2 has better test error than T1\n",
    "\n",
    "* C. Too little information to guarantee anything"
   ]
  },
  {
   "cell_type": "markdown",
   "metadata": {},
   "source": [
    "C"
   ]
  },
  {
   "cell_type": "markdown",
   "metadata": {},
   "source": [
    "### 10. (True/False) Logistic regression with polynomial degree 1 features will always have equal or lower training error than decision stumps (depth 1 decision trees)."
   ]
  },
  {
   "cell_type": "markdown",
   "metadata": {},
   "source": [
    "True"
   ]
  },
  {
   "cell_type": "markdown",
   "metadata": {},
   "source": [
    "### 11. (True/False) Decision trees (with depth > 1) are always linear classifiers."
   ]
  },
  {
   "cell_type": "markdown",
   "metadata": {},
   "source": [
    "False"
   ]
  },
  {
   "cell_type": "markdown",
   "metadata": {},
   "source": [
    "### 12. Which of these rules is more appropriate for splitting on real-valued features?\n",
    "\n",
    "* A. Split using thresholds (e.g., income < 60k or income >= 60k)\n",
    "\n",
    "* B. Split using numeric values (e.g., income == 60k, or income != 60k)\n",
    "\n",
    "* C. Neither of the above is appropriate"
   ]
  },
  {
   "cell_type": "markdown",
   "metadata": {},
   "source": [
    "A"
   ]
  },
  {
   "cell_type": "markdown",
   "metadata": {},
   "source": [
    "### 13. Consider two datasets D1 and D2, where D2 has the same data points as D1, but has an extra feature for each data point. Let T1 be the decision tree trained with D1, and T2 be the tree trained with D2. Which of the following is true?\n",
    "\n",
    "* A. T2 has better training error than T1\n",
    "\n",
    "* B. T2 has better test error than T1\n",
    "\n",
    "* C. Too little information to guarantee anything"
   ]
  },
  {
   "cell_type": "markdown",
   "metadata": {},
   "source": [
    "C"
   ]
  },
  {
   "cell_type": "markdown",
   "metadata": {},
   "source": [
    "### 14. If you are learning a decision tree, and you are at a node in which all of its data has the same y value, you should\n",
    "\n",
    "* A. find the best feature to split on\n",
    "\n",
    "* B. create a leaf that predicts the y value of all the data\n",
    "\n",
    "* C. terminate recursions on all branches and return the current tree\n",
    "\n",
    "* D. go back to the PARENT node and select a DIFFERENT feature to split on so that the y values are not all the same at THIS node"
   ]
  },
  {
   "cell_type": "markdown",
   "metadata": {},
   "source": [
    "B"
   ]
  },
  {
   "cell_type": "markdown",
   "metadata": {},
   "source": [
    "### 15. Imagine we are training a decision tree, and we are at a node. Each data point is (x1, x2, y), where x1,x2 are features, and y is the label. The data at this node is:\n",
    "\n",
    "    x1 x2 y\n",
    "    0  1  1\n",
    "    1  0 -1\n",
    "    0  1 -1\n",
    "    1  1  1\n",
    "    \n",
    "### Which feature results in the best split?"
   ]
  },
  {
   "cell_type": "markdown",
   "metadata": {},
   "source": [
    "x2"
   ]
  }
 ],
 "metadata": {
  "kernelspec": {
   "display_name": "Python 2",
   "language": "python",
   "name": "python2"
  },
  "language_info": {
   "codemirror_mode": {
    "name": "ipython",
    "version": 2
   },
   "file_extension": ".py",
   "mimetype": "text/x-python",
   "name": "python",
   "nbconvert_exporter": "python",
   "pygments_lexer": "ipython2",
   "version": "2.7.11"
  }
 },
 "nbformat": 4,
 "nbformat_minor": 0
}
