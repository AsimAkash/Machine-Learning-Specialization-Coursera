{
 "cells": [
  {
   "cell_type": "markdown",
   "metadata": {},
   "source": [
    "# Quiz 12 - Handling Missing Data"
   ]
  },
  {
   "cell_type": "markdown",
   "metadata": {},
   "source": [
    "_7 Questions_"
   ]
  },
  {
   "cell_type": "markdown",
   "metadata": {},
   "source": [
    "### 1. (True/False) Skipping data points (i.e., skipping rows of the data) that have missing features only works when the learning algorithm we are using is decision tree learning."
   ]
  },
  {
   "cell_type": "markdown",
   "metadata": {},
   "source": [
    "False"
   ]
  },
  {
   "cell_type": "markdown",
   "metadata": {},
   "source": [
    "### 2. What are potential downsides of skipping features with missing values (i.e., skipping columns of the data) to handle missing data?\n",
    "\n",
    "* A. So many features are skipped that accuracy can degrade\n",
    "\n",
    "* B. The learning algorithm will have to be modified\n",
    "\n",
    "* C. You will have fewer data points (i.e., rows) in the dataset\n",
    "\n",
    "* D. If an input at prediction time has a feature missing that was always present during training, this approach is not applicable."
   ]
  },
  {
   "cell_type": "markdown",
   "metadata": {},
   "source": [
    "A, D"
   ]
  },
  {
   "cell_type": "markdown",
   "metadata": {},
   "source": [
    "### 3. (True/False) It’s always better to remove missing data points (i.e., rows) as opposed to removing missing features (i.e., columns)."
   ]
  },
  {
   "cell_type": "markdown",
   "metadata": {},
   "source": [
    "False"
   ]
  },
  {
   "cell_type": "markdown",
   "metadata": {},
   "source": [
    "### 4. Consider a dataset with N training points. After imputing missing values, the number of data points in the data set is\n",
    "\n",
    "* A. 2 * N\n",
    "\n",
    "* B. N\n",
    "\n",
    "* C. 5 * N"
   ]
  },
  {
   "cell_type": "markdown",
   "metadata": {},
   "source": [
    "B"
   ]
  },
  {
   "cell_type": "markdown",
   "metadata": {},
   "source": [
    "### 5. Consider a dataset with D features. After imputing missing values, the number of features in the data set is\n",
    "\n",
    "* A. 2 * D\n",
    "\n",
    "* B. D\n",
    "\n",
    "* C. 0.5 * D"
   ]
  },
  {
   "cell_type": "markdown",
   "metadata": {},
   "source": [
    "B"
   ]
  },
  {
   "cell_type": "markdown",
   "metadata": {},
   "source": [
    "### 6. Which of the following are always true when imputing missing data? Select all that apply.\n",
    "\n",
    "* A. Imputed values can be used in any classification algorithm\n",
    "\n",
    "* B. Imputed values can be used when there is missing data at prediction time\n",
    "\n",
    "* C. Using imputed values results in higher accuracies than skipping data points or skipping features"
   ]
  },
  {
   "cell_type": "markdown",
   "metadata": {},
   "source": [
    "A, B"
   ]
  },
  {
   "cell_type": "markdown",
   "metadata": {},
   "source": [
    "### 7. Consider data that has binary features (i.e. the feature values are 0 or 1) with some feature values of some data points missing. When learning the best feature split at a node, how would we best modify the decision tree learning algorithm to handle data points with missing values for a feature?\n",
    "\n",
    "* A. We choose to assign missing values to the branch of the tree (either the one with feature value equal to 0 or with feature value equal to 1) that minimizes classification error.\n",
    "\n",
    "* B. We assume missing data always has value 0.\n",
    "\n",
    "* C. We ignore all data points with missing values."
   ]
  },
  {
   "cell_type": "markdown",
   "metadata": {},
   "source": [
    "A"
   ]
  }
 ],
 "metadata": {
  "kernelspec": {
   "display_name": "Python 2",
   "language": "python",
   "name": "python2"
  },
  "language_info": {
   "codemirror_mode": {
    "name": "ipython",
    "version": 2
   },
   "file_extension": ".py",
   "mimetype": "text/x-python",
   "name": "python",
   "nbconvert_exporter": "python",
   "pygments_lexer": "ipython2",
   "version": "2.7.11"
  }
 },
 "nbformat": 4,
 "nbformat_minor": 0
}
