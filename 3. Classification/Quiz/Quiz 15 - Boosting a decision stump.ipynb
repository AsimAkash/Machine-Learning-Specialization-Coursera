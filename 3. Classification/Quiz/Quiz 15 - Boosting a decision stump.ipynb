{
 "cells": [
  {
   "cell_type": "markdown",
   "metadata": {},
   "source": [
    "# Quiz 15 - Boosting a decision stump"
   ]
  },
  {
   "cell_type": "markdown",
   "metadata": {},
   "source": [
    "_6 Questions_"
   ]
  },
  {
   "cell_type": "markdown",
   "metadata": {},
   "source": [
    "### 1. Are you using GraphLab Create? Please make sure that\n",
    "\n",
    "1. You are using version 1.8.3 of GraphLab Create. Verify the version of GraphLab Create by running **graphlab.version** inside the notebook. If your GraphLab version is incorrect, see this post to install version 1.8.3. This assignment is not guaranteed to work with other versions of GraphLab Create.\n",
    "\n",
    "2. You are using the IPython notebook named module-3-linear-classifier-learning-assignment-blank.ipynb obtained from the associated reading.\n",
    "\n",
    "This question is ungraded. Check one of the three options to confirm.\n",
    "\n",
    "* I confirm that I am using the right version of GraphLab Create and the right IPython notebook.\n",
    "\n",
    "* I am using SFrame and NumPy only.\n",
    "\n",
    "* I am using other tools, and I understand that I may not be able to complete some of the quiz questions."
   ]
  },
  {
   "cell_type": "markdown",
   "metadata": {},
   "source": [
    "### 2. Recall that the classification error for unweighted data is defined as follows:\n",
    "\n",
    "<img src=\"images/image_15_1.png\">\n",
    "\n",
    "### Meanwhile, the weight of mistakes for weighted data is given by\n",
    "\n",
    "<img src=\"images/image_15_2.png\">\n",
    "\n",
    "### If we set the weights α=1 for all data points, how is the weight of mistakes WM(α,ŷ) related to the classification error?\n",
    "\n",
    "\n",
    "* A. WM(α,ŷ) = [classification error]\n",
    "\n",
    "* B. WM(α,ŷ) = [classification error] * [weight of correctly classified data points]\n",
    "\n",
    "* C. WM(α,ŷ) = N * [classification error]\n",
    "\n",
    "* D. WM(α,ŷ) = 1 - [classification error]"
   ]
  },
  {
   "cell_type": "markdown",
   "metadata": {},
   "source": [
    "C"
   ]
  },
  {
   "cell_type": "markdown",
   "metadata": {},
   "source": [
    "### 3. Refer to section Example: Training a weighted decision tree. Will you get the same model as small_data_decision_tree_subset_20 if you trained a decision tree with only 20 data points from the set of points in subset_20?"
   ]
  },
  {
   "cell_type": "markdown",
   "metadata": {},
   "source": [
    "Yes"
   ]
  },
  {
   "cell_type": "markdown",
   "metadata": {},
   "source": [
    "### 4. Refer to the 10-component ensemble of tree stumps trained with Adaboost. As each component is trained sequentially, are the component weights monotonically decreasing, monotonically increasing, or neither?\n",
    "\n",
    "* A. Monotonically decreasing\n",
    "\n",
    "* B. Monotonically increasing\n",
    "\n",
    "* C. Neither"
   ]
  },
  {
   "cell_type": "markdown",
   "metadata": {},
   "source": [
    "C"
   ]
  },
  {
   "cell_type": "markdown",
   "metadata": {},
   "source": [
    "### 5. Which of the following best describes a general trend in accuracy as we add more and more components? Answer based on the 30 components learned so far.\n",
    "\n",
    "* A. Training error goes down monotonically, i.e. the training error reduces with each iteration but never increases.\n",
    "\n",
    "* B. Training error goes down in general, with some ups and downs in the middle.\n",
    "\n",
    "* C. Training error goes up in general, with some ups and downs in the middle.\n",
    "\n",
    "* D. Training error goes down in the beginning, achieves the best error, and then goes up sharply.\n",
    "\n",
    "* E. None of the above"
   ]
  },
  {
   "cell_type": "markdown",
   "metadata": {},
   "source": [
    "B"
   ]
  },
  {
   "cell_type": "markdown",
   "metadata": {},
   "source": [
    "### 6. From this plot (with 30 trees), is there massive overfitting as the # of iterations increases?"
   ]
  },
  {
   "cell_type": "markdown",
   "metadata": {},
   "source": [
    "No"
   ]
  }
 ],
 "metadata": {
  "kernelspec": {
   "display_name": "Python 2",
   "language": "python",
   "name": "python2"
  },
  "language_info": {
   "codemirror_mode": {
    "name": "ipython",
    "version": 2
   },
   "file_extension": ".py",
   "mimetype": "text/x-python",
   "name": "python",
   "nbconvert_exporter": "python",
   "pygments_lexer": "ipython2",
   "version": "2.7.11"
  }
 },
 "nbformat": 4,
 "nbformat_minor": 0
}
