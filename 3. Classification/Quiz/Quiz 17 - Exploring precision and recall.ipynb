{
 "cells": [
  {
   "cell_type": "markdown",
   "metadata": {},
   "source": [
    "# Quiz 17 - Exploring precision and recall"
   ]
  },
  {
   "cell_type": "markdown",
   "metadata": {},
   "source": [
    "_14 Questions_"
   ]
  },
  {
   "cell_type": "markdown",
   "metadata": {},
   "source": [
    "### 1. Are you using GraphLab Create? Please make sure that\n",
    "\n",
    "1. You are using version 1.8.3 of GraphLab Create. Verify the version of GraphLab Create by running **graphlab.version** inside the notebook. If your GraphLab version is incorrect, see this post to install version 1.8.3. This assignment is not guaranteed to work with other versions of GraphLab Create.\n",
    "\n",
    "2. You are using the IPython notebook named module-3-linear-classifier-learning-assignment-blank.ipynb obtained from the associated reading.\n",
    "\n",
    "This question is ungraded. Check one of the three options to confirm.\n",
    "\n",
    "* I confirm that I am using the right version of GraphLab Create and the right IPython notebook.\n",
    "\n",
    "* I am using SFrame and NumPy only.\n",
    "\n",
    "* I am using other tools, and I understand that I may not be able to complete some of the quiz questions."
   ]
  },
  {
   "cell_type": "markdown",
   "metadata": {},
   "source": [
    "### 2. Consider the logistic regression model trained on amazon_baby.gl using GraphLab Create. Using accuracy as the evaluation metric, was our logistic regression model better than the majority class classifier?"
   ]
  },
  {
   "cell_type": "markdown",
   "metadata": {},
   "source": [
    "Yes"
   ]
  },
  {
   "cell_type": "markdown",
   "metadata": {},
   "source": [
    "### 3. How many predicted values in the test set are false positives?"
   ]
  },
  {
   "cell_type": "markdown",
   "metadata": {},
   "source": [
    "1443"
   ]
  },
  {
   "cell_type": "markdown",
   "metadata": {},
   "source": [
    "### 4. Consider the scenario where each false positive costs $100 and each false negative 1.\n",
    "\n",
    "### Given the stipulation, what is the cost associated with the logistic regression classifier's performance on the test set?\n",
    "\n",
    "* A. Between $0 and 100,000\n",
    "\n",
    "* B. Between $100,000 and 200,000\n",
    "\n",
    "* C. Between $200,000 and 300,000\n",
    "\n",
    "* D. Above $300,000"
   ]
  },
  {
   "cell_type": "markdown",
   "metadata": {},
   "source": [
    "B"
   ]
  },
  {
   "cell_type": "markdown",
   "metadata": {},
   "source": [
    "### 5. Out of all reviews in the test set that are predicted to be positive, what fraction of them are false positives? (Round to the second decimal place e.g. 0.25)"
   ]
  },
  {
   "cell_type": "markdown",
   "metadata": {},
   "source": [
    "0.05"
   ]
  },
  {
   "cell_type": "markdown",
   "metadata": {},
   "source": [
    "### 6. Based on what we learned in lecture, if we wanted to reduce this fraction of false positives to be below 3.5%, we would:\n",
    "\n",
    "* A. Discard a sufficient number of positive predictions\n",
    "\n",
    "* B. Discard a sufficient number of negative predictions\n",
    "\n",
    "* C. Increase threshold for predicting the positive class (y_hat = +1)\n",
    "\n",
    "* D. Decrease threshold for predicting the positive class (y_hat = +1)"
   ]
  },
  {
   "cell_type": "markdown",
   "metadata": {},
   "source": [
    "C"
   ]
  },
  {
   "cell_type": "markdown",
   "metadata": {},
   "source": [
    "### 7. What fraction of the positive reviews in the test_set were correctly predicted as positive by the classifier? Round your answer to 2 decimal places."
   ]
  },
  {
   "cell_type": "markdown",
   "metadata": {},
   "source": [
    "0.95"
   ]
  },
  {
   "cell_type": "markdown",
   "metadata": {},
   "source": [
    "### 8. What is the recall value for a classifier that predicts +1 for all data points in the test_data?"
   ]
  },
  {
   "cell_type": "markdown",
   "metadata": {},
   "source": [
    "1"
   ]
  },
  {
   "cell_type": "markdown",
   "metadata": {},
   "source": [
    "### 9. What happens to the number of positive predicted reviews as the threshold increased from 0.5 to 0.9?\n",
    "\n",
    "* A. More reviews are predicted to be positive.\n",
    "\n",
    "* B. Fewer reviews are predicted to be positive."
   ]
  },
  {
   "cell_type": "markdown",
   "metadata": {},
   "source": [
    "B"
   ]
  },
  {
   "cell_type": "markdown",
   "metadata": {},
   "source": [
    "### 10. Consider the metrics obtained from setting the threshold to 0.5 and to 0.9. \n",
    "\n",
    "### a. Does the precision increase with a higher threshold?"
   ]
  },
  {
   "cell_type": "markdown",
   "metadata": {},
   "source": [
    "Yes"
   ]
  },
  {
   "cell_type": "markdown",
   "metadata": {},
   "source": [
    "### b. Does the recall increase with a higher threshold?"
   ]
  },
  {
   "cell_type": "markdown",
   "metadata": {},
   "source": [
    "No"
   ]
  },
  {
   "cell_type": "markdown",
   "metadata": {},
   "source": [
    "### 11. Among all the threshold values tried, what is the smallest threshold value that achieves a precision of 96.5% or better? Round your answer to 3 decimal places."
   ]
  },
  {
   "cell_type": "markdown",
   "metadata": {},
   "source": [
    "0.838"
   ]
  },
  {
   "cell_type": "markdown",
   "metadata": {},
   "source": [
    "### 12. Using threshold = 0.98, how many false negatives do we get on the test_data? (Hint: You may use the graphlab.evaluation.confusion_matrix function implemented in GraphLab Create.)"
   ]
  },
  {
   "cell_type": "markdown",
   "metadata": {},
   "source": [
    "5826"
   ]
  },
  {
   "cell_type": "markdown",
   "metadata": {},
   "source": [
    "### Questions 13 and 14 are concerned with the reviews that contain the word baby."
   ]
  },
  {
   "cell_type": "markdown",
   "metadata": {},
   "source": [
    "### 13. Among all the threshold values tried, what is the smallest threshold value that achieves a precision of 96.5% or better for the reviews of data in baby_reviews? Round your answer to 3 decimal places."
   ]
  },
  {
   "cell_type": "markdown",
   "metadata": {},
   "source": [
    "0.864"
   ]
  },
  {
   "cell_type": "markdown",
   "metadata": {},
   "source": [
    "### 14. Is this threshold value smaller or larger than the threshold used for the entire dataset to achieve the same specified precision of 96.5%?"
   ]
  },
  {
   "cell_type": "markdown",
   "metadata": {},
   "source": [
    "Larger"
   ]
  }
 ],
 "metadata": {
  "kernelspec": {
   "display_name": "Python 2",
   "language": "python",
   "name": "python2"
  },
  "language_info": {
   "codemirror_mode": {
    "name": "ipython",
    "version": 2
   },
   "file_extension": ".py",
   "mimetype": "text/x-python",
   "name": "python",
   "nbconvert_exporter": "python",
   "pygments_lexer": "ipython2",
   "version": "2.7.11"
  }
 },
 "nbformat": 4,
 "nbformat_minor": 0
}
