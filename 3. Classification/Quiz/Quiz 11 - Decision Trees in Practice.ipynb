{
 "cells": [
  {
   "cell_type": "markdown",
   "metadata": {},
   "source": [
    "# Quiz 11 - Decision Trees in Practice"
   ]
  },
  {
   "cell_type": "markdown",
   "metadata": {},
   "source": [
    "_15 Questions_"
   ]
  },
  {
   "cell_type": "markdown",
   "metadata": {},
   "source": [
    "### 1. Are you using GraphLab Create? Please make sure that\n",
    "\n",
    "1. You are using version 1.8.3 of GraphLab Create. Verify the version of GraphLab Create by running **graphlab.version** inside the notebook. If your GraphLab version is incorrect, see this post to install version 1.8.3. This assignment is not guaranteed to work with other versions of GraphLab Create.\n",
    "\n",
    "2. You are using the IPython notebook named module-3-linear-classifier-learning-assignment-blank.ipynb obtained from the associated reading.\n",
    "\n",
    "This question is ungraded. Check one of the three options to confirm.\n",
    "\n",
    "* I confirm that I am using the right version of GraphLab Create and the right IPython notebook.\n",
    "\n",
    "* I am using SFrame and NumPy only.\n",
    "\n",
    "* I am using other tools, and I understand that I may not be able to complete some of the quiz questions."
   ]
  },
  {
   "cell_type": "markdown",
   "metadata": {},
   "source": [
    "### 2. Given an intermediate node with 6 safe loans and 3 risky loans, if the min_node_size parameter is 10, what should the tree learning algorithm do next?\n",
    "\n",
    "* A. Create a leaf and return it\n",
    "\n",
    "* B. Continue building the tree by finding the best splitting feature"
   ]
  },
  {
   "cell_type": "markdown",
   "metadata": {},
   "source": [
    "A"
   ]
  },
  {
   "cell_type": "markdown",
   "metadata": {},
   "source": [
    "### 3. Assume an intermediate node has 6 safe loans and 3 risky loans. For each of 4 possible features to split on, the error reduction is 0.0, 0.05, 0.1, and 0.14, respectively. If the minimum gain in error reduction parameter is set to 0.2, what should the tree learning algorithm do next?\n",
    "\n",
    "* A. Create a leaf and return it\n",
    "\n",
    "* B. Continue building the tree by using the splitting feature that gives 0.14 error reduction"
   ]
  },
  {
   "cell_type": "markdown",
   "metadata": {},
   "source": [
    "A"
   ]
  },
  {
   "cell_type": "markdown",
   "metadata": {},
   "source": [
    "### 4. Consider the prediction path validation_set[0] with my_decision_tree_old and my_decision_tree_new. For my_decision_tree_new trained with:\n",
    "\n",
    "max_depth = 6, min_node_size = 100, min_error_reduction=0.0\n",
    "\n",
    "### Is the prediction path shorter, longer, or the same as the prediction path using my_decision_tree_old that ignored the early stopping conditions 2 and 3?\n",
    "\n",
    "* A. Shorter\n",
    "\n",
    "* B. Longer\n",
    "\n",
    "* C. The same"
   ]
  },
  {
   "cell_type": "markdown",
   "metadata": {},
   "source": [
    "A"
   ]
  },
  {
   "cell_type": "markdown",
   "metadata": {},
   "source": [
    "### 5. Consider the prediction path for ANY new data point. For my_decision_tree_new trained with\n",
    "\n",
    "max_depth = 6, min_node_size = 100, min_error_reduction=0.0\n",
    "\n",
    "### Is the prediction path for a data point always shorter, always longer, always the same, shorter or the same, or longer or the same as for my_decision_tree_old that ignored the early stopping conditions 2 and 3?\n",
    "\n",
    "* A. Always shorter\n",
    "\n",
    "* B. Always longer\n",
    "\n",
    "* C. Always the same\n",
    "\n",
    "* D. Shorter or the same\n",
    "\n",
    "* E. Longer or the same"
   ]
  },
  {
   "cell_type": "markdown",
   "metadata": {},
   "source": [
    "D"
   ]
  },
  {
   "cell_type": "markdown",
   "metadata": {},
   "source": [
    "### 6. For a tree trained on any dataset using parameters\n",
    "\n",
    "max_depth = 6, min_node_size = 100, min_error_reduction=0.0\n",
    "\n",
    "### What is the maximum possible number of splits encountered while making a single prediction?"
   ]
  },
  {
   "cell_type": "markdown",
   "metadata": {},
   "source": [
    "6"
   ]
  },
  {
   "cell_type": "markdown",
   "metadata": {},
   "source": [
    "### 7. Is the validation error of the new decision tree (using early stopping conditions 2 and 3) lower than, higher than, or the same as that of the old decision tree from the previous assigment?"
   ]
  },
  {
   "cell_type": "markdown",
   "metadata": {},
   "source": [
    "lower than"
   ]
  },
  {
   "cell_type": "markdown",
   "metadata": {},
   "source": [
    "### 8. Which tree has the smallest error on the validation data?"
   ]
  },
  {
   "cell_type": "markdown",
   "metadata": {},
   "source": [
    "model_3"
   ]
  },
  {
   "cell_type": "markdown",
   "metadata": {},
   "source": [
    "### 9. Does the tree with the smallest error in the training data also have the smallest error in the validation data?"
   ]
  },
  {
   "cell_type": "markdown",
   "metadata": {},
   "source": [
    "Yes"
   ]
  },
  {
   "cell_type": "markdown",
   "metadata": {},
   "source": [
    "### 10. Which tree has the largest complexity?"
   ]
  },
  {
   "cell_type": "markdown",
   "metadata": {},
   "source": [
    "model_3"
   ]
  },
  {
   "cell_type": "markdown",
   "metadata": {},
   "source": [
    "### 11. Is it always true that the tree with the lowest classification error on the training set will result in the lowest classification error in the validation set?"
   ]
  },
  {
   "cell_type": "markdown",
   "metadata": {},
   "source": [
    "No, this is NOT ALWAYS true."
   ]
  },
  {
   "cell_type": "markdown",
   "metadata": {},
   "source": [
    "### 12. Is it always true that the most complex tree will result in the lowest classification error in the validation_set?"
   ]
  },
  {
   "cell_type": "markdown",
   "metadata": {},
   "source": [
    "No, this is not always true."
   ]
  },
  {
   "cell_type": "markdown",
   "metadata": {},
   "source": [
    "### 13. Using the complexity definition, which model (model_4, model_5, or model_6) has the largest complexity?"
   ]
  },
  {
   "cell_type": "markdown",
   "metadata": {},
   "source": [
    "model_4"
   ]
  },
  {
   "cell_type": "markdown",
   "metadata": {},
   "source": [
    "### 14. model_4 and model_5 have similar classification error on the validation set but model_5 has lower complexity. Should you pick model_5 over model_4?"
   ]
  },
  {
   "cell_type": "markdown",
   "metadata": {},
   "source": [
    "pick model_5 over model_4"
   ]
  },
  {
   "cell_type": "markdown",
   "metadata": {},
   "source": [
    "### 15. Using the results obtained in this section, which model (model_7, model_8, or model_9) would you choose to use?"
   ]
  },
  {
   "cell_type": "markdown",
   "metadata": {},
   "source": [
    "model_8"
   ]
  }
 ],
 "metadata": {
  "kernelspec": {
   "display_name": "Python 2",
   "language": "python",
   "name": "python2"
  },
  "language_info": {
   "codemirror_mode": {
    "name": "ipython",
    "version": 2
   },
   "file_extension": ".py",
   "mimetype": "text/x-python",
   "name": "python",
   "nbconvert_exporter": "python",
   "pygments_lexer": "ipython2",
   "version": "2.7.11"
  }
 },
 "nbformat": 4,
 "nbformat_minor": 0
}
