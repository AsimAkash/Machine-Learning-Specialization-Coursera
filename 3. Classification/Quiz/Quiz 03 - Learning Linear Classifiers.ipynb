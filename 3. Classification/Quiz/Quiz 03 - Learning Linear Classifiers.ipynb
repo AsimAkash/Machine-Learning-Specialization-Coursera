{
 "cells": [
  {
   "cell_type": "markdown",
   "metadata": {},
   "source": [
    "# Quiz 03 - Learning Linear Classifiers"
   ]
  },
  {
   "cell_type": "markdown",
   "metadata": {},
   "source": [
    "_6 Questions_"
   ]
  },
  {
   "cell_type": "markdown",
   "metadata": {},
   "source": [
    "### 1. (True/False) A linear classifier can only learn positive coefficients."
   ]
  },
  {
   "cell_type": "markdown",
   "metadata": {},
   "source": [
    "False"
   ]
  },
  {
   "cell_type": "markdown",
   "metadata": {},
   "source": [
    "### 2. (True/False) In order to train a logistic regression model, we find the weights that maximize the likelihood of the model."
   ]
  },
  {
   "cell_type": "markdown",
   "metadata": {},
   "source": [
    "True"
   ]
  },
  {
   "cell_type": "markdown",
   "metadata": {},
   "source": [
    "### 3. (True/False) The data likelihood is the product of the probability of the inputs x given the weights w and response y."
   ]
  },
  {
   "cell_type": "markdown",
   "metadata": {},
   "source": [
    "False"
   ]
  },
  {
   "cell_type": "markdown",
   "metadata": {},
   "source": [
    "### 4. Questions 4 and 5 refer to the following scenario.\n",
    "\n",
    "Consider the setting where our inputs are 1-dimensional. We have data\n",
    "\n",
    "x: 2.5, 0.3, 2.8, 0.5\n",
    "\n",
    "y: 1, -1, 1, 1\n",
    "\n",
    "and the current estimates of the weights are w0 = 0 and w1 = 1. (w0: the intercept, w1: the weight for x).\n",
    "\n",
    "Calculate the likelihood of this data. Round your answer to 2 decimal places.\n",
    "\n",
    "**Note**:\n",
    "Notice that the second data point has label -1. So when computing the data likelihood, make sure to use P(y_2 = -1|x_2, w), not P(y_2 = +1 | x_2, w).\n",
    "\n",
    "To compute P(y_2 = -1|x_2, w), first compute P(y_2 = +1 | x_2, w) and then subtract it from 1, because\n",
    "\n",
    "P(y_2 = +1 | x_2, w) + P(y_2 = -1|x_2, w) = 1, by the law of total probability."
   ]
  },
  {
   "cell_type": "code",
   "execution_count": 10,
   "metadata": {
    "collapsed": false
   },
   "outputs": [
    {
     "data": {
      "text/plain": [
       "0.23076514147414115"
      ]
     },
     "execution_count": 10,
     "metadata": {},
     "output_type": "execute_result"
    }
   ],
   "source": [
    "import math\n",
    "1/(1+math.exp(-(0+1*2.5)))*(1-1/(1+math.exp(-(0+1*0.3))))*1/(1+math.exp(-(0+1*2.8)))*1/(1+math.exp(-(0+1*0.5)))"
   ]
  },
  {
   "cell_type": "markdown",
   "metadata": {},
   "source": [
    "### 5. Refer to the scenario given in Question 4 to answer the following: Calculate the derivative of the log likelihood with respect to w1. Round your answer to 2 decimal places."
   ]
  },
  {
   "cell_type": "code",
   "execution_count": 12,
   "metadata": {
    "collapsed": false
   },
   "outputs": [
    {
     "data": {
      "text/plain": [
       "0.36659072192551606"
      ]
     },
     "execution_count": 12,
     "metadata": {},
     "output_type": "execute_result"
    }
   ],
   "source": [
    "2.5*(1-(1/(1+math.exp(-(0+1*2.5)))))+0.3*(0-(1/(1+math.exp(-(0+1*0.3)))))+2.8*(1-(1/(1+math.exp(-(0+1*2.8)))))+0.5*(1-(1/(1+math.exp(-(0+1*0.5)))))"
   ]
  },
  {
   "cell_type": "markdown",
   "metadata": {},
   "source": [
    "### 6. Which of the following is true about gradient ascent? Select all that apply."
   ]
  },
  {
   "cell_type": "markdown",
   "metadata": {},
   "source": [
    "* It is an iterative algorithm.\n",
    "\n",
    "* It finds the maximum by “hill climbing”"
   ]
  }
 ],
 "metadata": {
  "kernelspec": {
   "display_name": "Python 2",
   "language": "python",
   "name": "python2"
  },
  "language_info": {
   "codemirror_mode": {
    "name": "ipython",
    "version": 2
   },
   "file_extension": ".py",
   "mimetype": "text/x-python",
   "name": "python",
   "nbconvert_exporter": "python",
   "pygments_lexer": "ipython2",
   "version": "2.7.11"
  }
 },
 "nbformat": 4,
 "nbformat_minor": 0
}
