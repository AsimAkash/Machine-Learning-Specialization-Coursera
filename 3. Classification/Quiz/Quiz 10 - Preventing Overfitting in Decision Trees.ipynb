{
 "cells": [
  {
   "cell_type": "markdown",
   "metadata": {},
   "source": [
    "# Quiz 10 - Preventing Overfitting in Decision Trees"
   ]
  },
  {
   "cell_type": "markdown",
   "metadata": {},
   "source": [
    "_11 Questions_"
   ]
  },
  {
   "cell_type": "markdown",
   "metadata": {},
   "source": [
    "### 1. (True/False) When learning decision trees, smaller depth USUALLY translates to lower training error."
   ]
  },
  {
   "cell_type": "markdown",
   "metadata": {},
   "source": [
    "False"
   ]
  },
  {
   "cell_type": "markdown",
   "metadata": {},
   "source": [
    "### 2. (True/False) If no two data points have the same input values, we can always learn a decision tree that achieves 0 training error."
   ]
  },
  {
   "cell_type": "markdown",
   "metadata": {},
   "source": [
    "True"
   ]
  },
  {
   "cell_type": "markdown",
   "metadata": {},
   "source": [
    "### 3. (True/False) If decision tree T1 has lower training error than decision tree T2, then T1 will always have better test error than T2."
   ]
  },
  {
   "cell_type": "markdown",
   "metadata": {},
   "source": [
    "False"
   ]
  },
  {
   "cell_type": "markdown",
   "metadata": {},
   "source": [
    "### 4. Which of the following is true for decision trees?\n",
    "\n",
    "* A. Model complexity increases with size of the data.\n",
    "\n",
    "* B. Model complexity increases with depth.\n",
    "\n",
    "* C. None of the above"
   ]
  },
  {
   "cell_type": "markdown",
   "metadata": {},
   "source": [
    "B"
   ]
  },
  {
   "cell_type": "markdown",
   "metadata": {},
   "source": [
    "### 5. Pruning and early stopping in decision trees is used to\n",
    "\n",
    "* A. combat overfitting\n",
    "\n",
    "* B. improve training error\n",
    "\n",
    "* C. None of the above"
   ]
  },
  {
   "cell_type": "markdown",
   "metadata": {},
   "source": [
    "A"
   ]
  },
  {
   "cell_type": "markdown",
   "metadata": {},
   "source": [
    "### 6. Which of the following is NOT an early stopping method?\n",
    "\n",
    "* A. Stop when the tree hits a certain depth\n",
    "\n",
    "* B. Stop when node has too few data points (minimum node “size”)\n",
    "\n",
    "* C. Stop when every possible split results in the same amount of error reduction\n",
    "\n",
    "* D. Stop when best split results in too small of an error reduction"
   ]
  },
  {
   "cell_type": "markdown",
   "metadata": {},
   "source": [
    "C"
   ]
  },
  {
   "cell_type": "markdown",
   "metadata": {},
   "source": [
    "### 7. Consider decision tree T1 learned with minimum node size parameter = 1000. Now consider decision tree T2 trained on the same dataset and parameters, except that the minimum node size parameter is now 100. Which of the following is always true?\n",
    "\n",
    "* A. The depth of T2 >= the depth of T1\n",
    "\n",
    "* B. The number of nodes in T2 >= the number of nodes in T1\n",
    "\n",
    "* C. The test error of T2 <= the test error of T1\n",
    "\n",
    "* D. The training error of T2 <= the training error of T1"
   ]
  },
  {
   "cell_type": "markdown",
   "metadata": {},
   "source": [
    "A, B, D"
   ]
  },
  {
   "cell_type": "markdown",
   "metadata": {},
   "source": [
    "### Questions 8 to 11 refer to the following common scenario:\n",
    "\n",
    "Imagine we are training a decision tree, and we are at a node. Each data point is (x1, x2, y), where x1,x2 are features, and y is the label. The data at this node is:\n",
    "\n",
    "    x1  x2  y\n",
    "    0   1   1\n",
    "    1   0   1\n",
    "    0   1   1\n",
    "    1   1  -1"
   ]
  },
  {
   "cell_type": "markdown",
   "metadata": {},
   "source": [
    "### 8. What is the classification error at this node (assuming a majority class classifier)?"
   ]
  },
  {
   "cell_type": "markdown",
   "metadata": {},
   "source": [
    "0.25"
   ]
  },
  {
   "cell_type": "markdown",
   "metadata": {},
   "source": [
    "### 9. If we split on x1, what is the classification error?"
   ]
  },
  {
   "cell_type": "markdown",
   "metadata": {},
   "source": [
    "0.25"
   ]
  },
  {
   "cell_type": "markdown",
   "metadata": {},
   "source": [
    "### 10. If we split on x2, what is the classification error?"
   ]
  },
  {
   "cell_type": "markdown",
   "metadata": {},
   "source": [
    "0.25"
   ]
  },
  {
   "cell_type": "markdown",
   "metadata": {},
   "source": [
    "### 11. If our parameter for minimum gain in error reduction is 0.1, do we split or stop early?"
   ]
  },
  {
   "cell_type": "markdown",
   "metadata": {},
   "source": [
    "Stop early"
   ]
  }
 ],
 "metadata": {
  "kernelspec": {
   "display_name": "Python 2",
   "language": "python",
   "name": "python2"
  },
  "language_info": {
   "codemirror_mode": {
    "name": "ipython",
    "version": 2
   },
   "file_extension": ".py",
   "mimetype": "text/x-python",
   "name": "python",
   "nbconvert_exporter": "python",
   "pygments_lexer": "ipython2",
   "version": "2.7.11"
  }
 },
 "nbformat": 4,
 "nbformat_minor": 0
}
