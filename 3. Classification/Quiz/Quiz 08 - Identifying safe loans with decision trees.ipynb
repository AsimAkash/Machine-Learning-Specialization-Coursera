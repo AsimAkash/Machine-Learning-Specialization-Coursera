{
 "cells": [
  {
   "cell_type": "markdown",
   "metadata": {},
   "source": [
    "# Quiz 08 - Identifying safe loans with decision trees"
   ]
  },
  {
   "cell_type": "markdown",
   "metadata": {},
   "source": [
    "_8 Questions_"
   ]
  },
  {
   "cell_type": "markdown",
   "metadata": {},
   "source": [
    "### 1. Are you using GraphLab Create? Please make sure that\n",
    "\n",
    "1. You are using version 1.8.3 of GraphLab Create. Verify the version of GraphLab Create by running **graphlab.version** inside the notebook. If your GraphLab version is incorrect, see this post to install version 1.8.3. This assignment is not guaranteed to work with other versions of GraphLab Create.\n",
    "\n",
    "2. You are using the IPython notebook named module-2-linear-classifier-assignment-blank.ipynb obtained from the associated reading.\n",
    "\n",
    "This question is ungraded. Check one of the three options to confirm.\n",
    "\n",
    "* I confirm that I am using the right version of GraphLab Create and the right IPython notebook.\n",
    "\n",
    "* I am using scikit-learn.\n",
    "\n",
    "* I am using tools other than GraphLab or scikit-learn, and I understand that I may not be able to complete some of the quiz questions."
   ]
  },
  {
   "cell_type": "markdown",
   "metadata": {},
   "source": [
    "### 2. What percentage of the predictions on sample_validation_data did decision_tree_model get correct?"
   ]
  },
  {
   "cell_type": "markdown",
   "metadata": {},
   "source": [
    "50%"
   ]
  },
  {
   "cell_type": "markdown",
   "metadata": {},
   "source": [
    "### 3. Which loan has the highest probability of being classified as a safe loan?"
   ]
  },
  {
   "cell_type": "markdown",
   "metadata": {},
   "source": [
    "4th"
   ]
  },
  {
   "cell_type": "markdown",
   "metadata": {},
   "source": [
    "### 4. Notice that the probability preditions are the exact same for the 2nd and 3rd loans i.e 0.472267584643798. Why would this happen?"
   ]
  },
  {
   "cell_type": "markdown",
   "metadata": {},
   "source": [
    "During tree traversal both examples fall into the same leaf node."
   ]
  },
  {
   "cell_type": "markdown",
   "metadata": {},
   "source": [
    "### 5. Based on the visualized tree, what prediction would you make for this data point?"
   ]
  },
  {
   "cell_type": "markdown",
   "metadata": {},
   "source": [
    "-1"
   ]
  },
  {
   "cell_type": "markdown",
   "metadata": {},
   "source": [
    "### 6. What is the accuracy of decision_tree_model on the validation set, rounded to the nearest .01 (e.g. 0.76)?"
   ]
  },
  {
   "cell_type": "markdown",
   "metadata": {},
   "source": [
    "0.64"
   ]
  },
  {
   "cell_type": "markdown",
   "metadata": {},
   "source": [
    "### 7. How does the performance of big_model on the validation set compare to decision_tree_model on the validation set? Is this a sign of overfitting?"
   ]
  },
  {
   "cell_type": "markdown",
   "metadata": {},
   "source": [
    "big_model has lower accuracy on the validation set than decision_tree_model. This is overfitting."
   ]
  },
  {
   "cell_type": "markdown",
   "metadata": {},
   "source": [
    "### 8. Let us assume that each mistake costs money:\n",
    "\n",
    "* Assume a cost of $10,000 per false negative.\n",
    "\n",
    "* Assume a cost of $20,000 per false positive.\n",
    "\n",
    "### What is the total cost of mistakes made by decision_tree_model on validation_data? Please enter your answer as a plain integer, without the dollar sign or the comma separator, e.g. 3002000."
   ]
  },
  {
   "cell_type": "markdown",
   "metadata": {},
   "source": [
    "50280000"
   ]
  }
 ],
 "metadata": {
  "kernelspec": {
   "display_name": "Python 2",
   "language": "python",
   "name": "python2"
  },
  "language_info": {
   "codemirror_mode": {
    "name": "ipython",
    "version": 2
   },
   "file_extension": ".py",
   "mimetype": "text/x-python",
   "name": "python",
   "nbconvert_exporter": "python",
   "pygments_lexer": "ipython2",
   "version": "2.7.11"
  }
 },
 "nbformat": 4,
 "nbformat_minor": 0
}
