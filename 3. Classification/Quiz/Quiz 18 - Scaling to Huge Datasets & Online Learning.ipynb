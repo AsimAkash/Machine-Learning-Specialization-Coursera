{
 "cells": [
  {
   "cell_type": "markdown",
   "metadata": {},
   "source": [
    "# Quiz 18 - Scaling to Huge Datasets & Online Learning"
   ]
  },
  {
   "cell_type": "markdown",
   "metadata": {},
   "source": [
    "_10 Questions_"
   ]
  },
  {
   "cell_type": "markdown",
   "metadata": {},
   "source": [
    "### 1. (True/False) Stochastic gradient ascent often requires fewer passes over the dataset than batch gradient ascent to achieve a similar log likelihood."
   ]
  },
  {
   "cell_type": "markdown",
   "metadata": {},
   "source": [
    "True"
   ]
  },
  {
   "cell_type": "markdown",
   "metadata": {},
   "source": [
    "### 2. (True/False) Choosing a large batch size results in less noisy gradients"
   ]
  },
  {
   "cell_type": "markdown",
   "metadata": {},
   "source": [
    "True"
   ]
  },
  {
   "cell_type": "markdown",
   "metadata": {},
   "source": [
    "### 3. (True/False) The set of coefficients obtained at the last iteration represents the best coefficients found so far."
   ]
  },
  {
   "cell_type": "markdown",
   "metadata": {},
   "source": [
    "False"
   ]
  },
  {
   "cell_type": "markdown",
   "metadata": {},
   "source": [
    "### 4. Suppose you obtained the plot of log likelihood below after running stochastic gradient ascent.\n",
    "\n",
    "<img src=\"images/image_18_1.png\" width=50%, height=50%>\n",
    "\n",
    "### Which of the following actions would help the most to improve the rate of convergence?\n",
    "\n",
    "* A. Increase step size\n",
    "\n",
    "* B. Decrease step size\n",
    "\n",
    "* C. Decrease batch size"
   ]
  },
  {
   "cell_type": "markdown",
   "metadata": {},
   "source": [
    "B"
   ]
  },
  {
   "cell_type": "markdown",
   "metadata": {},
   "source": [
    "### 5. Suppose you obtained the plot of log likelihood below after running stochastic gradient ascent.\n",
    "\n",
    "<img src=\"images/image_18_2.png\" width=50%, height=50%>\n",
    "\n",
    "### Which of the following actions would help to improve the rate of convergence?\n",
    "\n",
    "* A. Increase batch size\n",
    "\n",
    "* B. Increase step size\n",
    "\n",
    "* C. Decrease step size"
   ]
  },
  {
   "cell_type": "markdown",
   "metadata": {},
   "source": [
    "B"
   ]
  },
  {
   "cell_type": "markdown",
   "metadata": {},
   "source": [
    "### 6. Suppose it takes about 1 milliseconds to compute a gradient for a single example. You run an online advertising company and would like to do online learning via mini-batch stochastic gradient ascent. If you aim to update the coefficients once every 5 minutes, how many examples can you cover in each update? Overhead and other operations take up 2 minutes, so you only have 3 minutes for the coefficient update."
   ]
  },
  {
   "cell_type": "code",
   "execution_count": 1,
   "metadata": {
    "collapsed": false
   },
   "outputs": [
    {
     "data": {
      "text/plain": [
       "180000"
      ]
     },
     "execution_count": 1,
     "metadata": {},
     "output_type": "execute_result"
    }
   ],
   "source": [
    "3*60*1000"
   ]
  },
  {
   "cell_type": "markdown",
   "metadata": {},
   "source": [
    "### 7. In search for an optimal step size, you experiment with multiple step sizes and obtain the following convergence plot.\n",
    "\n",
    "<img src=\"images/image_18_3.png\" width=50%, height=50%>\n",
    "\n",
    "### Which line corresponds to step sizes that are smaller than the best? Select all that apply.\n",
    "\n",
    "* A. (1)\n",
    "\n",
    "* B. (2)\n",
    "\n",
    "* C. (3)\n",
    "\n",
    "* D. (4)\n",
    "\n",
    "* E. (5)"
   ]
  },
  {
   "cell_type": "markdown",
   "metadata": {},
   "source": [
    "C, E"
   ]
  },
  {
   "cell_type": "markdown",
   "metadata": {},
   "source": [
    "### 8. Suppose you run stochastic gradient ascent with two different batch sizes. \n",
    "\n",
    "<img src=\"images/image_18_4.png\" width=50%, height=50%>\n",
    "\n",
    "### Which of the two lines below corresponds to the smaller batch size (assuming both use the same step size)?\n",
    "\n",
    "* A. (1)\n",
    "* B. (2)"
   ]
  },
  {
   "cell_type": "markdown",
   "metadata": {},
   "source": [
    "A"
   ]
  },
  {
   "cell_type": "markdown",
   "metadata": {},
   "source": [
    "### 9. Which of the following is NOT a benefit of stochastic gradient ascent over batch gradient ascent? Choose all that apply.\n",
    "\n",
    "* A. Each coefficient step is very fast.\n",
    "\n",
    "* B. Log likelihood of data improves monotonically.\n",
    "\n",
    "* C. Stochastic gradient ascent can be used for online learning.\n",
    "\n",
    "* D. Stochastic gradient ascent can achieve higher likelihood than batch gradient ascent for the same amount of running time.\n",
    "\n",
    "* E. Stochastic gradient ascent is highly robust with respect to parameter choices."
   ]
  },
  {
   "cell_type": "markdown",
   "metadata": {},
   "source": [
    "B,E"
   ]
  },
  {
   "cell_type": "markdown",
   "metadata": {},
   "source": [
    "### 10. Suppose we run the stochastic gradient ascent algorithm described in the lecture with batch size of 100. To make 10 passes over a dataset consisting of 15400 examples, how many iterations does it need to run?"
   ]
  },
  {
   "cell_type": "code",
   "execution_count": 4,
   "metadata": {
    "collapsed": false
   },
   "outputs": [
    {
     "data": {
      "text/plain": [
       "1540"
      ]
     },
     "execution_count": 4,
     "metadata": {},
     "output_type": "execute_result"
    }
   ],
   "source": [
    "10*(15400/100)"
   ]
  }
 ],
 "metadata": {
  "kernelspec": {
   "display_name": "Python 2",
   "language": "python",
   "name": "python2"
  },
  "language_info": {
   "codemirror_mode": {
    "name": "ipython",
    "version": 2
   },
   "file_extension": ".py",
   "mimetype": "text/x-python",
   "name": "python",
   "nbconvert_exporter": "python",
   "pygments_lexer": "ipython2",
   "version": "2.7.11"
  }
 },
 "nbformat": 4,
 "nbformat_minor": 0
}
