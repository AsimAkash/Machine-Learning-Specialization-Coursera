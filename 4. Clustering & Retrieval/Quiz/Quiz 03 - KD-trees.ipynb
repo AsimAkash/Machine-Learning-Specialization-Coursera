{
 "cells": [
  {
   "cell_type": "markdown",
   "metadata": {},
   "source": [
    "# Quiz 3 - KD-trees"
   ]
  },
  {
   "cell_type": "markdown",
   "metadata": {},
   "source": [
    "_5 Questions_"
   ]
  },
  {
   "cell_type": "markdown",
   "metadata": {},
   "source": [
    "### 1. Which of the following is not true about KD-trees?\n",
    "\n",
    "* A. It divides the feature space into nested axis-aligned boxes.\n",
    "\n",
    "* B. It can be used only for approximate nearest neighbor search but not for exact nearest neighbor search.\n",
    "\n",
    "* C. It prunes parts of the feature space away from consideration by inspecting smallest possible distances that can be achieved.\n",
    "\n",
    "* D. The query time scales sublinearly with the number of data points and exponentially with the number of dimensions.\n",
    "\n",
    "* E. It works best in low to medium dimension settings."
   ]
  },
  {
   "cell_type": "markdown",
   "metadata": {},
   "source": [
    "B"
   ]
  },
  {
   "cell_type": "markdown",
   "metadata": {},
   "source": [
    "### Questions 2, 3, 4, and 5 involves training a KD-tree on the following dataset:\n",
    "\n",
    "                        X1\tX2\n",
    "    Data point 1\t-1.58\t-2.01\n",
    "    Data point 2\t0.91\t3.98\n",
    "    Data point 3\t-0.73\t4.00\n",
    "    Data point 4\t-4.22\t1.16\n",
    "    Data point 5\t4.19\t-2.02\n",
    "    Data point 6\t-0.33\t2.15\n",
    "    \n",
    "Train a KD-tree by hand as follows:\n",
    "\n",
    "First split using X1 and then using X2. Alternate between X1 and X2 in order.\n",
    "Use “middle-of-the-range” heuristic for each split. Take the maximum and minimum of the coordinates of the member points.\n",
    "\n",
    "Keep subdividing until every leaf node contains two or fewer data points."
   ]
  },
  {
   "cell_type": "code",
   "execution_count": 76,
   "metadata": {
    "collapsed": false
   },
   "outputs": [
    {
     "name": "stdout",
     "output_type": "stream",
     "text": [
      "1st Split using X1: -0.015\n",
      "2nd Split using X2: 0.995\n",
      "3rd Split using X1: -1.945\n"
     ]
    },
    {
     "data": {
      "image/png": "[encoded data removed]",
      "text/plain": [
       "<matplotlib.figure.Figure at 0x103d32f90>"
      ]
     },
     "metadata": {},
     "output_type": "display_data"
    }
   ],
   "source": [
    "import graphlab as gl\n",
    "x = gl.SFrame({'x1':[-1.58,0.91,-0.73,-4.22,4.19,-0.33],\n",
    "             'x2':[-2.01,3.98,4.00,1.16,-2.02,2.15]})\n",
    "\n",
    "#Split 1\n",
    "s1 = (abs(max(x['x1']))-abs(min(x['x1'])))/2\n",
    "print \"1st Split using X1:\",s1\n",
    "x1_11 = x[x['x1']<=s1]\n",
    "x1_12 = x[x['x1']>s1]\n",
    "\n",
    "#Split 2\n",
    "s2 = (abs(max(x1_11['x2']))-abs(min(x1_11['x2'])))/2\n",
    "print \"2nd Split using X2:\",s2\n",
    "x2_11 = x1_11[x1_11['x2']<=s2]\n",
    "x2_12 = x1_11[x1_11['x2']>s2]\n",
    "\n",
    "#Split 3\n",
    "s3 = (abs(max(x2_12['x1']))-abs(min(x2_12['x1'])))/2\n",
    "print \"3rd Split using X1:\",s3\n",
    "x1_21 = x2_12[x2_12['x1']<=s3]\n",
    "x1_22 = x2_12[x2_12['x1']>s3]\n",
    "\n",
    "import matplotlib.pyplot as plt\n",
    "%matplotlib inline\n",
    "plt.plot(x['x1'], x['x2'], 'ro')\n",
    "plt.plot(-3,1.5, 'bo')\n",
    "plt.annotate('query point', xy=(-3, 1.5), xytext=(-4.5, 4),\n",
    "            arrowprops=dict(facecolor='black', shrink=0.1),\n",
    "            )\n",
    "#Split 1\n",
    "plt.plot((s1, s1), (-5, 5), 'k-')\n",
    "#Split 2\n",
    "plt.plot((-5, s1), (s2, s2), 'k-')\n",
    "#Split 3\n",
    "plt.plot((s3, s3), (s2, 5), 'k-')\n",
    "\n",
    "\n",
    "\n",
    "plt.axis([-5, 5, -5, 5])\n",
    "plt.show()"
   ]
  },
  {
   "cell_type": "markdown",
   "metadata": {},
   "source": [
    "### 2. What is the split value used for the first split? Enter the exact value, as you are expected to obtain a finite number of decimals. Use American-style decimals (e.g. 0.026)."
   ]
  },
  {
   "cell_type": "markdown",
   "metadata": {},
   "source": [
    "-0.015"
   ]
  },
  {
   "cell_type": "markdown",
   "metadata": {},
   "source": [
    "### 3. What is the split value used for the second split? Enter the exact value, as you are expected to obtain a finite number of decimals. Use American-style decimals (e.g. 0.026)."
   ]
  },
  {
   "cell_type": "markdown",
   "metadata": {},
   "source": [
    "0.995"
   ]
  },
  {
   "cell_type": "markdown",
   "metadata": {},
   "source": [
    "### 4. Given a query point (-3, 1.5), which of the data points belong to the same leaf node as the query point? Choose all that apply."
   ]
  },
  {
   "cell_type": "markdown",
   "metadata": {},
   "source": [
    "Data point 4"
   ]
  },
  {
   "cell_type": "markdown",
   "metadata": {},
   "source": [
    "### 5.  Perform backtracking with the query point (-3, 1.5) to perform exact nearest neighbor search. Which of the data points would be pruned from the search? Choose all that apply.\n",
    "\n",
    "Hint: Assume that each node in the KD-tree remembers the tight bound on the coordinates of its member points, as follows:\n",
    "\n",
    "<img src=\"images/image_03_01.png\", width=50%, height=50%>"
   ]
  },
  {
   "cell_type": "markdown",
   "metadata": {},
   "source": [
    "Data point 1, 2, 3, 5, 6"
   ]
  },
  {
   "cell_type": "code",
   "execution_count": 77,
   "metadata": {
    "collapsed": false
   },
   "outputs": [
    {
     "data": {
      "text/html": [
       "<div style=\"max-height:1000px;max-width:1500px;overflow:auto;\"><table frame=\"box\" rules=\"cols\">\n",
       "    <tr>\n",
       "        <th style=\"padding-left: 1em; padding-right: 1em; text-align: center\">x1</th>\n",
       "        <th style=\"padding-left: 1em; padding-right: 1em; text-align: center\">x2</th>\n",
       "    </tr>\n",
       "    <tr>\n",
       "        <td style=\"padding-left: 1em; padding-right: 1em; text-align: center; vertical-align: top\">-0.73</td>\n",
       "        <td style=\"padding-left: 1em; padding-right: 1em; text-align: center; vertical-align: top\">4.0</td>\n",
       "    </tr>\n",
       "    <tr>\n",
       "        <td style=\"padding-left: 1em; padding-right: 1em; text-align: center; vertical-align: top\">-4.22</td>\n",
       "        <td style=\"padding-left: 1em; padding-right: 1em; text-align: center; vertical-align: top\">1.16</td>\n",
       "    </tr>\n",
       "    <tr>\n",
       "        <td style=\"padding-left: 1em; padding-right: 1em; text-align: center; vertical-align: top\">-0.33</td>\n",
       "        <td style=\"padding-left: 1em; padding-right: 1em; text-align: center; vertical-align: top\">2.15</td>\n",
       "    </tr>\n",
       "</table>\n",
       "[? rows x 2 columns]<br/>Note: Only the head of the SFrame is printed. This SFrame is lazily evaluated.<br/>You can use sf.materialize() to force materialization.\n",
       "</div>"
      ],
      "text/plain": [
       "Columns:\n",
       "\tx1\tfloat\n",
       "\tx2\tfloat\n",
       "\n",
       "Rows: Unknown\n",
       "\n",
       "Data:\n",
       "+-------+------+\n",
       "|   x1  |  x2  |\n",
       "+-------+------+\n",
       "| -0.73 | 4.0  |\n",
       "| -4.22 | 1.16 |\n",
       "| -0.33 | 2.15 |\n",
       "+-------+------+\n",
       "[? rows x 2 columns]\n",
       "Note: Only the head of the SFrame is printed. This SFrame is lazily evaluated.\n",
       "You can use sf.materialize() to force materialization."
      ]
     },
     "execution_count": 77,
     "metadata": {},
     "output_type": "execute_result"
    }
   ],
   "source": [
    "x2_12"
   ]
  }
 ],
 "metadata": {
  "kernelspec": {
   "display_name": "Python 2",
   "language": "python",
   "name": "python2"
  },
  "language_info": {
   "codemirror_mode": {
    "name": "ipython",
    "version": 2
   },
   "file_extension": ".py",
   "mimetype": "text/x-python",
   "name": "python",
   "nbconvert_exporter": "python",
   "pygments_lexer": "ipython2",
   "version": "2.7.11"
  }
 },
 "nbformat": 4,
 "nbformat_minor": 0
}
