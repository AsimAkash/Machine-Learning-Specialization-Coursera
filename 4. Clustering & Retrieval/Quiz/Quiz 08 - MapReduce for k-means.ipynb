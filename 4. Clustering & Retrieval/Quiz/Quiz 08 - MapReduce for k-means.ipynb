{
 "cells": [
  {
   "cell_type": "markdown",
   "metadata": {},
   "source": [
    "# Quiz 8 - MapReduce for k-means"
   ]
  },
  {
   "cell_type": "markdown",
   "metadata": {},
   "source": [
    "_5 Questions_"
   ]
  },
  {
   "cell_type": "markdown",
   "metadata": {},
   "source": [
    "### 1. Suppose we are operating on a 1D vector. Which of the following operation is not data parallel over the vector elements?\n",
    "\n",
    "* A. Add a constant to every element.\n",
    "\n",
    "* B. Multiply the vector by a constant.\n",
    "\n",
    "* C. Increment the vector by another vector of the same dimension.\n",
    "\n",
    "* D. Compute the average of the elements.\n",
    "\n",
    "* E. Compute the sign of each element."
   ]
  },
  {
   "cell_type": "markdown",
   "metadata": {},
   "source": [
    "D"
   ]
  },
  {
   "cell_type": "markdown",
   "metadata": {},
   "source": [
    "### 2. (True/False) A single mapper call can emit multiple (key,value) pairs."
   ]
  },
  {
   "cell_type": "markdown",
   "metadata": {},
   "source": [
    "True"
   ]
  },
  {
   "cell_type": "markdown",
   "metadata": {},
   "source": [
    "### 3. (True/False) More than one reducer can emit (key,value) pairs with the same key simultaneously."
   ]
  },
  {
   "cell_type": "markdown",
   "metadata": {},
   "source": [
    "False"
   ]
  },
  {
   "cell_type": "markdown",
   "metadata": {},
   "source": [
    "### 4. (True/False) Suppose we are running k-means using MapReduce. Some mappers may be launched for a new k-means iteration even if some reducers from the previous iteration are still running."
   ]
  },
  {
   "cell_type": "markdown",
   "metadata": {},
   "source": [
    "False"
   ]
  },
  {
   "cell_type": "markdown",
   "metadata": {},
   "source": [
    "### 5. Consider the following list of binary operations. Which can be used for the reduce step of MapReduce? Choose all that apply.\n",
    "\n",
    "Hints: The reduce step requires a binary operator that satisfied both of the following conditions.\n",
    "\n",
    "    Commutative: OP(x1,x2)=OP(x2,x1)\n",
    "    Associative: OP(OP(x1,x2),x3)=OP(x1,OP(x2,x3))\n",
    "\n",
    "* A. OP1(x1,x2) = MAX(x1, x2)\n",
    "\n",
    "* B. OP2(x1,x2) = x1 + x2 - 2\n",
    "\n",
    "* C. OP3(x1,x2) = 3*x1 + 2*x2\n",
    "\n",
    "* D. OP4(x1,x2) = x1^2 + x2\n",
    "\n",
    "* E. OP5(x1,x2) = (x1 + x2) / 2"
   ]
  },
  {
   "cell_type": "markdown",
   "metadata": {},
   "source": [
    "AB"
   ]
  }
 ],
 "metadata": {
  "kernelspec": {
   "display_name": "Python [conda env:py27]",
   "language": "python",
   "name": "conda-env-py27-py"
  },
  "language_info": {
   "codemirror_mode": {
    "name": "ipython",
    "version": 2
   },
   "file_extension": ".py",
   "mimetype": "text/x-python",
   "name": "python",
   "nbconvert_exporter": "python",
   "pygments_lexer": "ipython2",
   "version": "2.7.12"
  }
 },
 "nbformat": 4,
 "nbformat_minor": 0
}
