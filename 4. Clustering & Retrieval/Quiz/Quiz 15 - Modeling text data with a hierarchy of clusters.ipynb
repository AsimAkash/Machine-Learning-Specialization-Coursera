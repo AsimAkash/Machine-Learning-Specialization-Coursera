{
 "cells": [
  {
   "cell_type": "markdown",
   "metadata": {},
   "source": [
    "# Quiz 15 - Modeling text data with a hierarchy of clusters"
   ]
  },
  {
   "cell_type": "markdown",
   "metadata": {},
   "source": [
    "_3 Questions_"
   ]
  },
  {
   "cell_type": "markdown",
   "metadata": {},
   "source": [
    "### 1. Make sure you have the latest versions of the notebook."
   ]
  },
  {
   "cell_type": "markdown",
   "metadata": {},
   "source": [
    "### 2. Which diagram best describes the hierarchy right after splitting the ice_hockey_football cluster?"
   ]
  },
  {
   "cell_type": "markdown",
   "metadata": {},
   "source": [
    "A. <img src = 'images/image_15_01.png' width=30%>\n",
    "B. <img src = 'images/image_15_02.png' width=30%>\n",
    "C. <img src = 'images/image_15_03.png' width=30%>\n",
    "D. <img src = 'images/image_15_04.png' width=30%>\n",
    "E. <img src = 'images/image_15_05.png' width=30%>"
   ]
  },
  {
   "cell_type": "code",
   "execution_count": null,
   "metadata": {
    "collapsed": true
   },
   "outputs": [],
   "source": [
    "D"
   ]
  },
  {
   "cell_type": "markdown",
   "metadata": {},
   "source": [
    "### 3. Let us bipartition the clusters male_non_athletes and female_non_athletes. Which diagram best describes the resulting hierarchy of clusters for the non-athletes?\n",
    "\n",
    "Note. The clusters for the athletes are not shown to save space."
   ]
  },
  {
   "cell_type": "markdown",
   "metadata": {},
   "source": [
    "A. <img src = 'images/image_15_06.png' width=30%>\n",
    "B. <img src = 'images/image_15_07.png' width=30%>\n",
    "C. <img src = 'images/image_15_08.png' width=30%>\n",
    "D. <img src = 'images/image_15_09.png' width=30%>\n",
    "E. <img src = 'images/image_15_10.png' width=30%>"
   ]
  },
  {
   "cell_type": "markdown",
   "metadata": {},
   "source": [
    "E"
   ]
  }
 ],
 "metadata": {
  "anaconda-cloud": {},
  "kernelspec": {
   "display_name": "Python [conda env:py27]",
   "language": "python",
   "name": "conda-env-py27-py"
  },
  "language_info": {
   "codemirror_mode": {
    "name": "ipython",
    "version": 2
   },
   "file_extension": ".py",
   "mimetype": "text/x-python",
   "name": "python",
   "nbconvert_exporter": "python",
   "pygments_lexer": "ipython2",
   "version": "2.7.12"
  }
 },
 "nbformat": 4,
 "nbformat_minor": 0
}
