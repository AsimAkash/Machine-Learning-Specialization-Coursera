{
 "cells": [
  {
   "cell_type": "markdown",
   "metadata": {},
   "source": [
    "# Quiz 1 - Representations and metrics"
   ]
  },
  {
   "cell_type": "markdown",
   "metadata": {},
   "source": [
    "_7 Questions_"
   ]
  },
  {
   "cell_type": "markdown",
   "metadata": {},
   "source": [
    "### 1. Consider three data points with two features as follows:\n",
    "\n",
    "<img src=\"images/image_01_01.png\" width=25%, height=25%>\n",
    "\n",
    "Among the three points, which two are closest to each other in terms of having the ​smallest Euclidean distance?\n",
    "\n",
    "* A) A and B\n",
    "\n",
    "* B) A and C\n",
    "\n",
    "* C) B and C"
   ]
  },
  {
   "cell_type": "markdown",
   "metadata": {},
   "source": [
    "C"
   ]
  },
  {
   "cell_type": "markdown",
   "metadata": {},
   "source": [
    "### 2. Consider three data points with two features as follows:\n",
    "\n",
    "<img src=\"images/image_01_01.png\" width=25%, height=25%>\n",
    "\n",
    "Among the three points, which two are closest to each other in terms of having the ​largest cosine similarity (or equivalently, ​smallest cosine distance)?\n",
    "\n",
    "* A) A and B\n",
    "\n",
    "* B) A and C\n",
    "\n",
    "* C) B and C"
   ]
  },
  {
   "cell_type": "markdown",
   "metadata": {},
   "source": [
    "A"
   ]
  },
  {
   "cell_type": "markdown",
   "metadata": {},
   "source": [
    "### 3. Consider the following two sentences.\n",
    "\n",
    "Sentence 1: The quick brown fox jumps over the lazy dog.\n",
    "\n",
    "Sentence 2: A quick brown dog outpaces a quick fox.\n",
    "\n",
    "Compute the Euclidean distance using word counts. To compute word counts, turn all words into lower case and strip all punctuation, so that \"The\" and \"the\" are counted as the same token. That is, document 1 would be represented as\n",
    "\n",
    "x=[# the,# a,# quick,# brown,# fox,# jumps,# over,# lazy,# dog,# outpaces]\n",
    "\n",
    "where # word is the count of that word in the document.\n",
    "\n",
    "Round your answer to 3 decimal places."
   ]
  },
  {
   "cell_type": "code",
   "execution_count": 21,
   "metadata": {
    "collapsed": false
   },
   "outputs": [
    {
     "name": "stdout",
     "output_type": "stream",
     "text": [
      "3.60555127546\n"
     ]
    }
   ],
   "source": [
    "import numpy as np\n",
    "import math\n",
    "#x=[# the,# a,# quick,# brown,# fox,# jumps,# over,# lazy,# dog,# outpaces]\n",
    "s1 = np.matrix('2,0,1,1,1,1,1,1,1,0')\n",
    "s2 = np.matrix('0,2,2,1,1,0,0,0,1,1')\n",
    "x = s1-s2\n",
    "print math.sqrt(x*np.transpose(x))"
   ]
  },
  {
   "cell_type": "markdown",
   "metadata": {},
   "source": [
    "### 4. Consider the following two sentences.\n",
    "\n",
    "Sentence 1: The quick brown fox jumps over the lazy dog.\n",
    "\n",
    "Sentence 2: A quick brown dog outpaces a quick fox.\n",
    "\n",
    "Recall that\n",
    "\n",
    "cosine distance = 1 - cosine similarity = 1 − xTy / (||x||||y||)\n",
    "\n",
    "Compute the cosine distance between sentence 1 and sentence 2 using word counts. To compute word counts, turn all words into lower case and strip all punctuation, so that \"The\" and \"the\" are counted as the same token. That is, document 1 would be represented as\n",
    "\n",
    "x=[# the,# a,# quick,# brown,# fox,# jumps,# over,# lazy,# dog,# outpaces]\n",
    "\n",
    "where # word is the count of that word in the document.\n",
    "\n",
    "Round your answer to 3 decimal places."
   ]
  },
  {
   "cell_type": "code",
   "execution_count": 16,
   "metadata": {
    "collapsed": false
   },
   "outputs": [
    {
     "name": "stdout",
     "output_type": "stream",
     "text": [
      "[[ 0.50763404]]\n"
     ]
    }
   ],
   "source": [
    "import numpy as np\n",
    "import math\n",
    "#x=[# the,# a,# quick,# brown,# fox,# jumps,# over,# lazy,# dog,# outpaces]\n",
    "s1 = np.matrix('2,0,1,1,1,1,1,1,1,0')\n",
    "s2 = np.matrix('0,1,1,1,1,0,0,0,1,1')\n",
    "print 1 - s1*np.transpose(s2) / (math.sqrt(s1*np.transpose(s1)) * math.sqrt(s2*np.transpose(s2)))"
   ]
  },
  {
   "cell_type": "markdown",
   "metadata": {},
   "source": [
    "### 5. (True/False) For positive features, cosine similarity is always between 0 and 1."
   ]
  },
  {
   "cell_type": "markdown",
   "metadata": {},
   "source": [
    "True"
   ]
  },
  {
   "cell_type": "markdown",
   "metadata": {},
   "source": [
    "### 6. Using the formula for TF-IDF presented in the lecture, complete the following sentence:\n",
    "\n",
    "### A word is assigned a zero TF-IDF weight when it appears in ____ documents. (N: number of documents in the corpus)\n",
    "\n",
    "* A. N - 1\n",
    "\n",
    "* B. N/2\n",
    "\n",
    "* C. N\n",
    "\n",
    "* D. 0.1*N\n",
    "\n",
    "* E. 100"
   ]
  },
  {
   "cell_type": "markdown",
   "metadata": {},
   "source": [
    "A"
   ]
  },
  {
   "cell_type": "markdown",
   "metadata": {},
   "source": [
    "### 7. Which of the following does not describe the word count document representation? (Note: this is different from TF-IDF document representation.)\n",
    "\n",
    "* A. Ignores the order of the words\n",
    "\n",
    "* B. Assigns a high score to a frequently occurring word\n",
    "\n",
    "* C. Penalizes words that appear in every document"
   ]
  },
  {
   "cell_type": "markdown",
   "metadata": {},
   "source": [
    "C"
   ]
  }
 ],
 "metadata": {
  "kernelspec": {
   "display_name": "Python 2",
   "language": "python",
   "name": "python2"
  },
  "language_info": {
   "codemirror_mode": {
    "name": "ipython",
    "version": 2
   },
   "file_extension": ".py",
   "mimetype": "text/x-python",
   "name": "python",
   "nbconvert_exporter": "python",
   "pygments_lexer": "ipython2",
   "version": "2.7.11"
  }
 },
 "nbformat": 4,
 "nbformat_minor": 0
}
