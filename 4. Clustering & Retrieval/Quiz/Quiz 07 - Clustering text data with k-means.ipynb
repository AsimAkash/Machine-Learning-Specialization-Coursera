{
 "cells": [
  {
   "cell_type": "markdown",
   "metadata": {},
   "source": [
    "# Quiz 7 - Clustering text data with k-means"
   ]
  },
  {
   "cell_type": "markdown",
   "metadata": {},
   "source": [
    "_7 Questions_"
   ]
  },
  {
   "cell_type": "markdown",
   "metadata": {},
   "source": [
    "### 1. (True/False) The clustering objective (heterogeneity) is non-increasing for this example."
   ]
  },
  {
   "cell_type": "markdown",
   "metadata": {},
   "source": [
    "True"
   ]
  },
  {
   "cell_type": "markdown",
   "metadata": {},
   "source": [
    "### 2. Let's step back from this particular example. If the clustering objective (heterogeneity) would ever increase when running K-means, that would indicate: (choose one)\n",
    "\n",
    "* A. K-means algorithm got stuck in a bad local minimum\n",
    "\n",
    "* B. There is a bug in the K-means code\n",
    "\n",
    "* C. All data points consist of exact duplicates\n",
    "\n",
    "* D. Nothing is wrong. The objective should generally go down sooner or later."
   ]
  },
  {
   "cell_type": "markdown",
   "metadata": {},
   "source": [
    "B"
   ]
  },
  {
   "cell_type": "markdown",
   "metadata": {},
   "source": [
    "### 3. Refer to the output of K-means for K=3 and seed=0. Which of the three clusters contains the greatest number of data points in the end?\n",
    "\n",
    "* A. Cluster #0\n",
    "\n",
    "* B. Cluster #1\n",
    "\n",
    "* C. Cluster #2"
   ]
  },
  {
   "cell_type": "markdown",
   "metadata": {},
   "source": [
    "C"
   ]
  },
  {
   "cell_type": "markdown",
   "metadata": {},
   "source": [
    "### 4. Another way to capture the effect of changing initialization is to look at the distribution of cluster assignments. Compute the size (# of member data points) of clusters for each of the multiple runs of K-means.\n",
    "\n",
    "### Look at the size of the largest cluster (most # of member data points) across multiple runs, with seeds 0, 20000, ..., 120000. What is the minimum value this quantity takes?"
   ]
  },
  {
   "cell_type": "markdown",
   "metadata": {},
   "source": [
    "15779"
   ]
  },
  {
   "cell_type": "markdown",
   "metadata": {},
   "source": [
    "### 5. Refer to the section \"Visualize clusters of documents\". Which of the 10 clusters above contains the greatest number of articles?\n",
    "\n",
    "* A. Cluster 0: artists, poets, writers, environmentalists\n",
    "\n",
    "* B. Cluster 4: track and field athletes\n",
    "\n",
    "* C. Cluster 5: composers, songwriters, singers, music producers\n",
    "\n",
    "* D. Cluster 7: baseball players\n",
    "\n",
    "* E. Cluster 9: lawyers, judges, legal scholars"
   ]
  },
  {
   "cell_type": "markdown",
   "metadata": {},
   "source": [
    "A"
   ]
  },
  {
   "cell_type": "markdown",
   "metadata": {},
   "source": [
    "### 6. Refer to the section \"Visualize clusters of documents\". Which of the 10 clusters above contains the least number of articles?\n",
    "\n",
    "* A. Cluster 1: film directors\n",
    "\n",
    "* B. Cluster 3: politicians\n",
    "\n",
    "* C. Cluster 6: soccer (football) players\n",
    "\n",
    "* D. Cluster 7: baseball players\n",
    "\n",
    "* E. Cluster 9: lawyers, judges, legal scholars"
   ]
  },
  {
   "cell_type": "markdown",
   "metadata": {},
   "source": [
    "E"
   ]
  },
  {
   "cell_type": "markdown",
   "metadata": {},
   "source": [
    "### 7. Another sign of too large K is having lots of small clusters. Look at the distribution of cluster sizes (by number of member data points). How many of the 100 clusters have fewer than 236 articles, i.e. 0.4% of the dataset?"
   ]
  },
  {
   "cell_type": "markdown",
   "metadata": {},
   "source": [
    "35"
   ]
  }
 ],
 "metadata": {
  "kernelspec": {
   "display_name": "Python 2",
   "language": "python",
   "name": "python2"
  },
  "language_info": {
   "codemirror_mode": {
    "name": "ipython",
    "version": 2
   },
   "file_extension": ".py",
   "mimetype": "text/x-python",
   "name": "python",
   "nbconvert_exporter": "python",
   "pygments_lexer": "ipython2",
   "version": "2.7.11"
  }
 },
 "nbformat": 4,
 "nbformat_minor": 0
}
