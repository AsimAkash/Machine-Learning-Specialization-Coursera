{
 "cells": [
  {
   "cell_type": "markdown",
   "metadata": {},
   "source": [
    "# Quiz 13 - Learning LDA model via Gibbs sampling"
   ]
  },
  {
   "cell_type": "markdown",
   "metadata": {},
   "source": [
    "_10 Questions_"
   ]
  },
  {
   "cell_type": "markdown",
   "metadata": {},
   "source": [
    "### 1. (True/False) Each iteration of Gibbs sampling for Bayesian inference in topic models is guaranteed to yield a higher joint model probability than the previous sample."
   ]
  },
  {
   "cell_type": "markdown",
   "metadata": {},
   "source": [
    "False"
   ]
  },
  {
   "cell_type": "markdown",
   "metadata": {},
   "source": [
    "### 2. (Check all that are true) Bayesian methods such as Gibbs sampling can be advantageous because they\n",
    "    A. Account for uncertainty over parameters when making predictions\n",
    "    B. Are faster than methods such as EM\n",
    "    C. Maximize the log probability of the data under the model\n",
    "    D. Regularize parameter estimates to avoid extreme values"
   ]
  },
  {
   "cell_type": "markdown",
   "metadata": {},
   "source": [
    "A, D"
   ]
  },
  {
   "cell_type": "markdown",
   "metadata": {},
   "source": [
    "### 3. For the standard LDA model discussed in the lectures, how many parameters are required to represent the distributions defining the topics?\n",
    "    A. [# unique words]\n",
    "    B. [# unique words] * [# topics]\n",
    "    C. [# documents] * [# unique words]\n",
    "    D. [# documents] * [# topics]"
   ]
  },
  {
   "cell_type": "markdown",
   "metadata": {},
   "source": [
    "B"
   ]
  },
  {
   "cell_type": "markdown",
   "metadata": {},
   "source": [
    "### 4. Suppose we have a collection of documents, and we are focusing our analysis to the use of the following 10 words. We ran several iterations of collapsed Gibbs sampling for an LDA model with K=2 topics and alpha=10.0 and gamma=0.1 (with notation as in the collapsed Gibbs sampling lecture). The corpus-wide assignments at our most recent collapsed Gibbs iteration are summarized in the following table of counts:\n",
    "\n",
    "    Word\t  Count in topic 1\tCount in topic 2\n",
    "    baseball         52\t            0\n",
    "    homerun          15\t            0\n",
    "    ticket            9\t            2\n",
    "    price             9\t           25\n",
    "    manager          20\t           37\n",
    "    owner            17\t           32\n",
    "    company           1\t           23\n",
    "    stock             0\t           75\n",
    "    bankrupt          0\t           19\n",
    "    taxes             0\t           29\n",
    "    \n",
    "We also have a single document i with the following topic assignments for each word:\n",
    "\n",
    "    topic\t1\t        2\t    1\t    2\t    1\n",
    "    word\tbaseball\tmanager\tticket\tprice\towner\n",
    "\n",
    "Suppose we want to re-compute the topic assignment for the word “manager”. To sample a new topic, we need to compute several terms to determine how much the document likes each topic, and how much each topic likes the word “manager”. The following questions will all relate to this situation.\n",
    "\n",
    "First, using the notation in the slides, what is the value of mmanager,1 (i.e., the number of times the word \"manager\" has been assigned to topic 1)?"
   ]
  },
  {
   "cell_type": "code",
   "execution_count": 3,
   "metadata": {
    "collapsed": false
   },
   "outputs": [
    {
     "data": {
      "text/plain": [
       "20"
      ]
     },
     "execution_count": 3,
     "metadata": {},
     "output_type": "execute_result"
    }
   ],
   "source": [
    "mm1 = 20\n",
    "mm1"
   ]
  },
  {
   "cell_type": "markdown",
   "metadata": {},
   "source": [
    "### 5. Consider the situation described in Question 4.\n",
    "\n",
    "What is the value of $\\sum_{w}m_{w,1}$, where the sum is taken over all words in the vocabulary?"
   ]
  },
  {
   "cell_type": "code",
   "execution_count": 4,
   "metadata": {
    "collapsed": false
   },
   "outputs": [
    {
     "data": {
      "text/plain": [
       "123"
      ]
     },
     "execution_count": 4,
     "metadata": {},
     "output_type": "execute_result"
    }
   ],
   "source": [
    "mw1 = 52+15+9+9+20+17+1+0+0+0\n",
    "mw1"
   ]
  },
  {
   "cell_type": "markdown",
   "metadata": {},
   "source": [
    "### 6. Consider the situation described in Question 4.\n",
    "\n",
    "Following the notation in the slides, what is the value of ni,1 for this document i (i.e., the number of words in document i assigned to topic 1)?"
   ]
  },
  {
   "cell_type": "code",
   "execution_count": 5,
   "metadata": {
    "collapsed": false
   },
   "outputs": [
    {
     "data": {
      "text/plain": [
       "3"
      ]
     },
     "execution_count": 5,
     "metadata": {},
     "output_type": "execute_result"
    }
   ],
   "source": [
    "ni1 = 3\n",
    "ni1"
   ]
  },
  {
   "cell_type": "markdown",
   "metadata": {},
   "source": [
    "### 7. In the situation described in Question 4, “manager” was assigned to topic 2. When we remove that assignment prior to sampling, we need to decrement the associated counts.\n",
    "\n",
    "After decrementing, what is the value of $n_{i, 2}$?"
   ]
  },
  {
   "cell_type": "code",
   "execution_count": 6,
   "metadata": {
    "collapsed": false
   },
   "outputs": [
    {
     "data": {
      "text/plain": [
       "1"
      ]
     },
     "execution_count": 6,
     "metadata": {},
     "output_type": "execute_result"
    }
   ],
   "source": [
    "ni2 = 1\n",
    "ni2"
   ]
  },
  {
   "cell_type": "markdown",
   "metadata": {},
   "source": [
    "### 8. In the situation described in Question 4, “manager” was assigned to topic 2. When we remove that assignment prior to sampling, we need to decrement the associated counts.\n",
    "\n",
    "After decrementing, what is the value of $m_{manager, 2}$?"
   ]
  },
  {
   "cell_type": "code",
   "execution_count": 7,
   "metadata": {
    "collapsed": false
   },
   "outputs": [
    {
     "data": {
      "text/plain": [
       "36"
      ]
     },
     "execution_count": 7,
     "metadata": {},
     "output_type": "execute_result"
    }
   ],
   "source": [
    "mm2 = 36\n",
    "mm2"
   ]
  },
  {
   "cell_type": "markdown",
   "metadata": {},
   "source": [
    "### 9. In the situation described in Question 4, “manager” was assigned to topic 2. When we remove that assignment prior to sampling, we need to decrement the associated counts.\n",
    "\n",
    "After decrementing, what is the value of $\\sum_w m_{w, 2}$?"
   ]
  },
  {
   "cell_type": "code",
   "execution_count": 12,
   "metadata": {
    "collapsed": false
   },
   "outputs": [
    {
     "data": {
      "text/plain": [
       "241"
      ]
     },
     "execution_count": 12,
     "metadata": {},
     "output_type": "execute_result"
    }
   ],
   "source": [
    "mw2 = 0+0+2+25+36+32+23+75+19+29\n",
    "mw2"
   ]
  },
  {
   "cell_type": "markdown",
   "metadata": {},
   "source": [
    "### 10. Consider the situation described in Question 4.\n",
    "\n",
    "As discussed in the slides, the unnormalized probability of assigning to topic 1 is\n",
    "\n",
    "$p_1 = \\frac{n_{i, 1} + \\alpha}{N_i - 1 + K \\alpha}\\frac{m_{\\text{manager}, 1} + \\gamma}{\\sum_w m_{w, 1} + V \\gamma}$\n",
    "\n",
    "where V is the total size of the vocabulary.\n",
    "\n",
    "Similarly the unnormalized probability of assigning to topic 2 is\n",
    "\n",
    "$p_2 = \\frac{n_{i, 2} + \\alpha}{N_i - 1 + K \\alpha}\\frac{m_{\\text{manager}, 2} + \\gamma}{\\sum_w m_{w, 2} + V \\gamma}$\n",
    "\n",
    "Using the above equations and the results computed in previous questions, compute the probability of assigning the word “manager” to topic 1.\n",
    "\n",
    "(Reminder: Normalize across the two topic options so that the probabilities of all possible assignments---topic 1 and topic 2---sum to 1.)\n",
    "\n",
    "Round your answer to 3 decimal places."
   ]
  },
  {
   "cell_type": "code",
   "execution_count": 19,
   "metadata": {
    "collapsed": false
   },
   "outputs": [
    {
     "name": "stdout",
     "output_type": "stream",
     "text": [
      "p1: 0.0878024193548\n",
      "p2: 0.0683712121212\n"
     ]
    }
   ],
   "source": [
    "K=2; alpha=10.0; gamma=0.1; N=5\n",
    "p1 = ((ni1+alpha)/(N-1+(K*alpha)))*((mm1+gamma)/(mw1+(10*gamma)))\n",
    "p2 = ((ni2+alpha)/(N-1+(K*alpha)))*((mm2+gamma)/(mw2+(10*gamma)))\n",
    "print \"p1:\",p1\n",
    "print \"p2:\",p2"
   ]
  },
  {
   "cell_type": "code",
   "execution_count": 20,
   "metadata": {
    "collapsed": false
   },
   "outputs": [
    {
     "name": "stdout",
     "output_type": "stream",
     "text": [
      "p1: 0.562210268949\n",
      "p2: 0.437789731051\n"
     ]
    }
   ],
   "source": [
    "print \"p1:\",p1/(p1+p2)\n",
    "print \"p2:\",p2/(p1+p2)"
   ]
  }
 ],
 "metadata": {
  "anaconda-cloud": {},
  "kernelspec": {
   "display_name": "Python [conda env:py27]",
   "language": "python",
   "name": "conda-env-py27-py"
  },
  "language_info": {
   "codemirror_mode": {
    "name": "ipython",
    "version": 2
   },
   "file_extension": ".py",
   "mimetype": "text/x-python",
   "name": "python",
   "nbconvert_exporter": "python",
   "pygments_lexer": "ipython2",
   "version": "2.7.12"
  }
 },
 "nbformat": 4,
 "nbformat_minor": 0
}
