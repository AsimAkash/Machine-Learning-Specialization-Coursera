{
 "cells": [
  {
   "cell_type": "markdown",
   "metadata": {},
   "source": [
    "# Quiz 9 - EM for Gaussian mixtures"
   ]
  },
  {
   "cell_type": "markdown",
   "metadata": {},
   "source": [
    "_9 Questions_"
   ]
  },
  {
   "cell_type": "markdown",
   "metadata": {},
   "source": [
    "### 1. (True/False) While the EM algorithm maintains uncertainty about the cluster assignment for each observation via soft assignments, the model assumes that every observation comes from only one cluster."
   ]
  },
  {
   "cell_type": "markdown",
   "metadata": {},
   "source": [
    "True"
   ]
  },
  {
   "cell_type": "markdown",
   "metadata": {},
   "source": [
    "### 2. (True/False) In high dimensions, the EM algorithm runs the risk of setting cluster variances to zero."
   ]
  },
  {
   "cell_type": "markdown",
   "metadata": {},
   "source": [
    "True"
   ]
  },
  {
   "cell_type": "markdown",
   "metadata": {},
   "source": [
    "### 3. In the EM algorithm, what do the E step and M step represent, respectively?\n",
    "\n",
    "* A. Estimate cluster responsibilities, Maximize likelihood over parameters\n",
    "\n",
    "* B. Estimate likelihood over parameters, Maximize cluster responsibilities\n",
    "\n",
    "* C. Estimate number of parameters, Maximize likelihood over parameters\n",
    "\n",
    "* D. Estimate likelihood over parameters, Maximize number of parameters"
   ]
  },
  {
   "cell_type": "markdown",
   "metadata": {},
   "source": [
    "A"
   ]
  },
  {
   "cell_type": "markdown",
   "metadata": {},
   "source": [
    "### 4. Suppose we have data that come from a mixture of 6 Gaussians (i.e., that is the true data structure). Which model would we expect to have the highest log-likelihood after fitting via the EM algorithm?\n",
    "\n",
    "* A. A mixture of Gaussians with 2 component clusters\n",
    "\n",
    "* B. A mixture of Gaussians with 4 component clusters\n",
    "\n",
    "* C. A mixture of Gaussians with 6 component clusters\n",
    "\n",
    "* D. A mixture of Gaussians with 7 component clusters\n",
    "\n",
    "* E. A mixture of Gaussians with 10 component clusters"
   ]
  },
  {
   "cell_type": "markdown",
   "metadata": {},
   "source": [
    "E"
   ]
  },
  {
   "cell_type": "markdown",
   "metadata": {},
   "source": [
    "### 5. Which of the following correctly describes the differences between EM for mixtures of Gaussians and k-means? Choose all that apply.\n",
    "\n",
    "* A. k-means often gets stuck in a local minimum, while EM tends not to\n",
    "\n",
    "* B. EM is better at capturing clusters of different sizes and orientations\n",
    "\n",
    "* C. EM is better at capturing clusters with overlaps\n",
    "\n",
    "* D. EM is less prone to overfitting than k-means\n",
    "\n",
    "* E. k-means is equivalent to running EM with infinitesimally small diagonal covariances."
   ]
  },
  {
   "cell_type": "markdown",
   "metadata": {},
   "source": [
    "BCE"
   ]
  },
  {
   "cell_type": "markdown",
   "metadata": {},
   "source": [
    "### 6. Suppose we have a Gaussian mixture model of 3-dimensional data with 4 component clusters, and we use a model with full covariance matrices. How many parameters are in the model?"
   ]
  },
  {
   "cell_type": "code",
   "execution_count": 4,
   "metadata": {
    "collapsed": false
   },
   "outputs": [
    {
     "data": {
      "text/plain": [
       "18"
      ]
     },
     "execution_count": 4,
     "metadata": {},
     "output_type": "execute_result"
    }
   ],
   "source": [
    "4+4+4*(4+1)/2"
   ]
  },
  {
   "cell_type": "markdown",
   "metadata": {},
   "source": [
    "### 6. Suppose we are running the EM algorithm. After an E-step, we obtain the following responsibility matrix:\t\n",
    "                Cluster A Cluster B\tCluster C\n",
    "    Data point 1\t0.20\t0.40\t0.40\n",
    "    Data point 2\t0.50\t0.10\t0.40\n",
    "    Data point 3\t0.70\t0.20\t0.10\n",
    "\n",
    "Which is the most probable cluster for data point 3?\n",
    "    \n",
    "    A. Cluster A\n",
    "    B. Cluster B\n",
    "    C. Cluster C"
   ]
  },
  {
   "cell_type": "code",
   "execution_count": null,
   "metadata": {
    "collapsed": true
   },
   "outputs": [],
   "source": [
    "A"
   ]
  },
  {
   "cell_type": "markdown",
   "metadata": {},
   "source": [
    "### 7. Suppose we have a Gaussian mixture model of 4-dimensional data with 5 component clusters, and we instead assume diagonal covariance matrices. How many parameters are in the model?"
   ]
  },
  {
   "cell_type": "code",
   "execution_count": 5,
   "metadata": {
    "collapsed": false
   },
   "outputs": [
    {
     "data": {
      "text/plain": [
       "15"
      ]
     },
     "execution_count": 5,
     "metadata": {},
     "output_type": "execute_result"
    }
   ],
   "source": [
    "5+5+5"
   ]
  },
  {
   "cell_type": "markdown",
   "metadata": {},
   "source": [
    "### 7. Suppose we are running the EM algorithm. After an E-step, we obtain the following responsibility matrix:\n",
    "               Cluster A\tCluster B\tCluster C\n",
    "    Data point 1\t0.20\t0.40\t0.40\n",
    "    Data point 2\t0.50\t0.10\t0.40\n",
    "    Data point 3\t0.70\t0.20\t0.10\n",
    "\n",
    "Suppose also that the data points are as follows:\n",
    "    \n",
    "    Dataset         X\tY\tZ\n",
    "    Data point 1\t3\t1\t2\n",
    "    Data point 2\t0\t0\t3\n",
    "    Data point 3\t1\t3\t7\n",
    "\n",
    "Let us compute the new mean for Cluster A. What is the Z coordinate of the new mean? Round your answer to 3 decimal places."
   ]
  },
  {
   "cell_type": "code",
   "execution_count": 3,
   "metadata": {
    "collapsed": false
   },
   "outputs": [
    {
     "data": {
      "text/plain": [
       "4.857142857142857"
      ]
     },
     "execution_count": 3,
     "metadata": {},
     "output_type": "execute_result"
    }
   ],
   "source": [
    "(.2*2+.5*3+.7*7)/(0.2+0.5+0.7)"
   ]
  },
  {
   "cell_type": "markdown",
   "metadata": {},
   "source": [
    "### 8. Which of the following contour plots describes a Gaussian distribution with diagonal covariance? Choose all that apply.\n",
    "\n",
    "<img src=\"images/image_09_01.png\" width=25%, height=25%>"
   ]
  },
  {
   "cell_type": "markdown",
   "metadata": {},
   "source": [
    "3, 4"
   ]
  },
  {
   "cell_type": "markdown",
   "metadata": {},
   "source": [
    "### 9. Suppose we initialize EM for mixtures of Gaussians (using full covariance matrices) with the following clusters:\n",
    "\n",
    "<img src=\"images/image_09_02.png\" width=25%, height=25%>\n",
    "\n",
    "Which of the following best describes the updated clusters after the first iteration of EM?\n",
    "\n",
    "A) <img src=\"images/image_09_03.png\" width=25%, height=25%>\n",
    "\n",
    "B) <img src=\"images/image_09_04.png\" width=25%, height=25%>\n",
    "\n",
    "C) <img src=\"images/image_09_05.png\" width=25%, height=25%>\n",
    "\n",
    "D) <img src=\"images/image_09_06.png\" width=25%, height=25%>\n",
    "\n",
    "E) <img src=\"images/image_09_07.png\" width=25%, height=25%>"
   ]
  },
  {
   "cell_type": "markdown",
   "metadata": {},
   "source": [
    "D"
   ]
  }
 ],
 "metadata": {
  "kernelspec": {
   "display_name": "Python [conda env:py27]",
   "language": "python",
   "name": "conda-env-py27-py"
  },
  "language_info": {
   "codemirror_mode": {
    "name": "ipython",
    "version": 2
   },
   "file_extension": ".py",
   "mimetype": "text/x-python",
   "name": "python",
   "nbconvert_exporter": "python",
   "pygments_lexer": "ipython2",
   "version": "2.7.12"
  }
 },
 "nbformat": 4,
 "nbformat_minor": 0
}
