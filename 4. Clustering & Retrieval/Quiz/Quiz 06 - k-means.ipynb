{
 "cells": [
  {
   "cell_type": "markdown",
   "metadata": {},
   "source": [
    "# Quiz 6 - k-means"
   ]
  },
  {
   "cell_type": "markdown",
   "metadata": {},
   "source": [
    "_9 Questions_"
   ]
  },
  {
   "cell_type": "markdown",
   "metadata": {},
   "source": [
    "### 1. (True/False) k-means always converges to a local optimum."
   ]
  },
  {
   "cell_type": "markdown",
   "metadata": {},
   "source": [
    "True"
   ]
  },
  {
   "cell_type": "markdown",
   "metadata": {},
   "source": [
    "### 2. (True/False) The clustering objective is non-increasing throughout a run of k-means."
   ]
  },
  {
   "cell_type": "markdown",
   "metadata": {},
   "source": [
    "True"
   ]
  },
  {
   "cell_type": "markdown",
   "metadata": {},
   "source": [
    "### 3. (True/False) Running k-means with a larger value of k always enables a lower possible final objective value than running k-means with smaller k."
   ]
  },
  {
   "cell_type": "markdown",
   "metadata": {},
   "source": [
    "True"
   ]
  },
  {
   "cell_type": "markdown",
   "metadata": {},
   "source": [
    "### 4. (True/False) Any initialization of the centroids in k-means is just as good as any other."
   ]
  },
  {
   "cell_type": "markdown",
   "metadata": {},
   "source": [
    "False"
   ]
  },
  {
   "cell_type": "markdown",
   "metadata": {},
   "source": [
    "### 5. (True/False) Initializing centroids using k-means++ guarantees convergence to a global optimum."
   ]
  },
  {
   "cell_type": "markdown",
   "metadata": {},
   "source": [
    "False"
   ]
  },
  {
   "cell_type": "markdown",
   "metadata": {},
   "source": [
    "### 6. (True/False) Initializing centroids using k-means++ costs more than random initialization in the beginning, but can pay off eventually by speeding up convergence."
   ]
  },
  {
   "cell_type": "markdown",
   "metadata": {},
   "source": [
    "True"
   ]
  },
  {
   "cell_type": "markdown",
   "metadata": {},
   "source": [
    "### 7. (True/False) Using k-means++ can only influence the number of iterations to convergence, not the quality of the final assignments (i.e., objective value at convergence)."
   ]
  },
  {
   "cell_type": "markdown",
   "metadata": {},
   "source": [
    "False"
   ]
  },
  {
   "cell_type": "markdown",
   "metadata": {},
   "source": [
    "### 8. Consider the following dataset:\n",
    "\n",
    "                        X1\tX2\n",
    "    Data point 1\t-1.88\t 2.05\n",
    "    Data point 2\t-0.71\t 0.42\n",
    "    Data point 3\t 2.41   -0.67\n",
    "    Data point 4\t 1.85   -3.80\n",
    "    Data point 5\t-3.69   -1.33\n",
    "\n",
    "Perform k-means with k=2 until the cluster assignment does not change between successive iterations. Use the following initialization for the centroids:\n",
    "\n",
    "                    X1\t X2\n",
    "    Cluster 1\t 2.00\t2.00\n",
    "    Cluster 2   -2.00   -2.00\n",
    "\n",
    "Which of the five data points changed its cluster assignment most often during the k-means run?\n",
    "\n",
    "* A. Data point 1\n",
    "\n",
    "* B. Data point 2\n",
    "\n",
    "* C. Data point 3\n",
    "\n",
    "* D. Data point 4\n",
    "\n",
    "* E. Data point 5"
   ]
  },
  {
   "cell_type": "code",
   "execution_count": 23,
   "metadata": {
    "collapsed": false
   },
   "outputs": [
    {
     "data": {
      "text/plain": [
       "[<matplotlib.lines.Line2D at 0x10b03f0d0>]"
      ]
     },
     "execution_count": 23,
     "metadata": {},
     "output_type": "execute_result"
    },
    {
     "data": {
      "image/png": "[encoded data removed]",
      "text/plain": [
       "<matplotlib.figure.Figure at 0x10b03f290>"
      ]
     },
     "metadata": {},
     "output_type": "display_data"
    }
   ],
   "source": [
    "x1 = [-1.88,-0.71,2.41,1.85,-3.69]\n",
    "x2 = [2.05,0.42,-0.67,-3.80,-1.33]\n",
    "\n",
    "cx1 = [2,-2]\n",
    "cx2 = [2,-2]\n",
    "import matplotlib.pyplot as plt\n",
    "%matplotlib inline\n",
    "plt.plot(x1, x2, 'ro')\n",
    "plt.plot(cx1, cx2, 'bo')"
   ]
  },
  {
   "cell_type": "code",
   "execution_count": 24,
   "metadata": {
    "collapsed": false
   },
   "outputs": [
    {
     "name": "stdout",
     "output_type": "stream",
     "text": [
      "Cluster 1:\n",
      "3.88032215157\n",
      "3.13695712435\n",
      "2.70129598526\n",
      "5.80193933095\n",
      "6.59279910205\n",
      "\n",
      "Cluster 2:\n",
      "4.05177738776\n",
      "2.74235300426\n",
      "4.60619148538\n",
      "4.25\n",
      "1.81796589627\n"
     ]
    }
   ],
   "source": [
    "import math\n",
    "print \"Cluster 1:\"\n",
    "for i in range(0,5):\n",
    "    print math.sqrt(math.pow(cx1[0]-x1[i],2)+math.pow(cx2[0]-x2[i],2))\n",
    "\n",
    "print \"\\nCluster 2:\"\n",
    "for i in range(0,5):    \n",
    "    print math.sqrt(math.pow(cx1[1]-x1[i],2)+math.pow(cx2[1]-x2[i],2))"
   ]
  },
  {
   "cell_type": "code",
   "execution_count": 25,
   "metadata": {
    "collapsed": false
   },
   "outputs": [
    {
     "name": "stdout",
     "output_type": "stream",
     "text": [
      "New cx1:  [0.2650000000000001, 0.69]\n",
      "New cx2:  [-0.85, -1.57]\n",
      "Cluster 1:\n",
      "3.60707984386\n",
      "1.60110118356\n",
      "2.15253919825\n",
      "3.34883935118\n",
      "3.98402120978\n",
      "\n",
      "Cluster 2:\n",
      "4.43951573936\n",
      "2.43312556191\n",
      "1.94123671921\n",
      "2.51366266631\n",
      "4.38657041434\n"
     ]
    },
    {
     "data": {
      "image/png": "[encoded data removed]",
      "text/plain": [
       "<matplotlib.figure.Figure at 0x106b2f690>"
      ]
     },
     "metadata": {},
     "output_type": "display_data"
    }
   ],
   "source": [
    "cx1[0] = (x1[0]+x1[2])/2\n",
    "cx1[1] = (x2[0]+x2[2])/2\n",
    "\n",
    "cx2[0] = (x1[1]+x1[3]+x1[4])/3\n",
    "cx2[1] = (x2[1]+x2[3]+x2[4])/3\n",
    "\n",
    "print \"New cx1: \",cx1\n",
    "print \"New cx2: \",cx2\n",
    "\n",
    "plt.plot(x1, x2, 'ro')\n",
    "plt.plot(cx1, cx2, 'bo')\n",
    "\n",
    "print \"Cluster 1:\"\n",
    "for i in range(0,5):\n",
    "    print math.sqrt(math.pow(cx1[0]-x1[i],2)+math.pow(cx2[0]-x2[i],2))\n",
    "\n",
    "print \"\\nCluster 2:\"\n",
    "for i in range(0,5):    \n",
    "    print math.sqrt(math.pow(cx1[1]-x1[i],2)+math.pow(cx2[1]-x2[i],2))"
   ]
  },
  {
   "cell_type": "code",
   "execution_count": 27,
   "metadata": {
    "collapsed": false
   },
   "outputs": [
    {
     "name": "stdout",
     "output_type": "stream",
     "text": [
      "New cx1:  [-2.0933333333333333, 0.3799999999999999]\n",
      "New cx2:  [2.13, -2.235]\n",
      "Cluster 1:\n",
      "0.227840099875\n",
      "2.19947973646\n",
      "5.30283048108\n",
      "7.12143087994\n",
      "3.81063570083\n",
      "\n",
      "Cluster 2:\n",
      "4.84446333457\n",
      "2.87003919834\n",
      "2.56322550705\n",
      "2.14712016431\n",
      "4.16940343455\n"
     ]
    },
    {
     "data": {
      "image/png": "[encoded data removed]",
      "text/plain": [
       "<matplotlib.figure.Figure at 0x10b50ff10>"
      ]
     },
     "metadata": {},
     "output_type": "display_data"
    }
   ],
   "source": [
    "cx1[0] = (x1[0]+x1[1]+x1[4])/3\n",
    "cx1[1] = (x2[0]+x2[1]+x2[4])/3\n",
    "\n",
    "cx2[0] = (x1[2]+x1[3])/2\n",
    "cx2[1] = (x2[2]+x2[3])/2\n",
    "\n",
    "print \"New cx1: \",cx1\n",
    "print \"New cx2: \",cx2\n",
    "\n",
    "plt.plot(x1, x2, 'ro')\n",
    "plt.plot(cx1, cx2, 'bo')\n",
    "\n",
    "print \"Cluster 1:\"\n",
    "for i in range(0,5):\n",
    "    print math.sqrt(math.pow(cx1[0]-x1[i],2)+math.pow(cx2[0]-x2[i],2))\n",
    "\n",
    "print \"\\nCluster 2:\"\n",
    "for i in range(0,5):    \n",
    "    print math.sqrt(math.pow(cx1[1]-x1[i],2)+math.pow(cx2[1]-x2[i],2))"
   ]
  },
  {
   "cell_type": "markdown",
   "metadata": {},
   "source": [
    "B"
   ]
  },
  {
   "cell_type": "markdown",
   "metadata": {},
   "source": [
    "### 9. Suppose we initialize k-means with the following centroids\n",
    "\n",
    "<img src=\"images/image_06_01.png\", width=25%, height =25%>\n",
    "\n",
    "Which of the following best describes the cluster assignment in the first iteration of k-means?\n",
    "\n",
    "A) <img src=\"images/image_06_02.png\", width=25%, height =25%>\n",
    "\n",
    "B) <img src=\"images/image_06_03.png\", width=25%, height =25%>\n",
    "\n",
    "C) <img src=\"images/image_06_04.png\", width=25%, height =25%>\n",
    "\n",
    "D) <img src=\"images/image_06_05.png\", width=25%, height =25%>\n",
    "\n",
    "E) <img src=\"images/image_06_06.png\", width=25%, height =25%>"
   ]
  },
  {
   "cell_type": "markdown",
   "metadata": {},
   "source": [
    "A"
   ]
  }
 ],
 "metadata": {
  "kernelspec": {
   "display_name": "Python 2",
   "language": "python",
   "name": "python2"
  },
  "language_info": {
   "codemirror_mode": {
    "name": "ipython",
    "version": 2
   },
   "file_extension": ".py",
   "mimetype": "text/x-python",
   "name": "python",
   "nbconvert_exporter": "python",
   "pygments_lexer": "ipython2",
   "version": "2.7.11"
  }
 },
 "nbformat": 4,
 "nbformat_minor": 0
}
